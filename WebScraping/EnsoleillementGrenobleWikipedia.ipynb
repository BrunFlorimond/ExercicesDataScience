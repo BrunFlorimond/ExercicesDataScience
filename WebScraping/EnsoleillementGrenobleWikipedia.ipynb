{
 "cells": [
  {
   "cell_type": "markdown",
   "metadata": {},
   "source": [
    "# Récupérer de données sur une page web en utilisant beautiful Soup"
   ]
  },
  {
   "cell_type": "code",
   "execution_count": 2,
   "metadata": {
    "collapsed": true
   },
   "outputs": [],
   "source": [
    "## all imports\n",
    "from IPython.display import HTML\n",
    "import numpy as np\n",
    "import urllib\n",
    "import bs4 #this is beautiful soup\n",
    "\n",
    "import pandas as pd\n",
    "pd.set_option('display.width', 500)\n",
    "pd.set_option('display.max_columns', 100)\n",
    "pd.set_option('display.notebook_repr_html', True)\n",
    "\n",
    "import matplotlib\n",
    "import matplotlib.pyplot as plt\n",
    "%matplotlib inline\n",
    "\n",
    "import seaborn as sns"
   ]
  },
  {
   "cell_type": "markdown",
   "metadata": {},
   "source": [
    "# Telechargement de la page"
   ]
  },
  {
   "cell_type": "code",
   "execution_count": 3,
   "metadata": {
    "collapsed": true
   },
   "outputs": [],
   "source": [
    "url = \"https://fr.wikipedia.org/wiki/Grenoble\"\n",
    "page = urllib.request.urlopen(url).read()"
   ]
  },
  {
   "cell_type": "markdown",
   "metadata": {},
   "source": [
    "Visualisation de la page : \n",
    "<img src=\"screenshotMeteoGrenoble.png\">"
   ]
  },
  {
   "cell_type": "markdown",
   "metadata": {},
   "source": [
    "## Recuperation des valeurs dans la page wikipedia : Parsing"
   ]
  },
  {
   "cell_type": "code",
   "execution_count": 4,
   "metadata": {
    "collapsed": false
   },
   "outputs": [
    {
     "data": {
      "text/html": [
       "<div>\n",
       "<table border=\"1\" class=\"dataframe\">\n",
       "  <thead>\n",
       "    <tr style=\"text-align: right;\">\n",
       "      <th></th>\n",
       "      <th>Ensoleillement (h/an)</th>\n",
       "      <th>Pluie (mm/an)</th>\n",
       "      <th>Neige (j/an)</th>\n",
       "      <th>Orage (j/an)</th>\n",
       "      <th>Brouillard (j/an)</th>\n",
       "    </tr>\n",
       "  </thead>\n",
       "  <tbody>\n",
       "    <tr>\n",
       "      <th>Moyenne nationale</th>\n",
       "      <td>1973.0</td>\n",
       "      <td>770.0</td>\n",
       "      <td>14.0</td>\n",
       "      <td>22.0</td>\n",
       "      <td>40.0</td>\n",
       "    </tr>\n",
       "    <tr>\n",
       "      <th>Grenoble (Aéroport Grenoble-Isère)</th>\n",
       "      <td>2066.0</td>\n",
       "      <td>934.0</td>\n",
       "      <td>17.0</td>\n",
       "      <td>32.0</td>\n",
       "      <td>28.0</td>\n",
       "    </tr>\n",
       "    <tr>\n",
       "      <th>Paris</th>\n",
       "      <td>1661.0</td>\n",
       "      <td>637.0</td>\n",
       "      <td>12.0</td>\n",
       "      <td>18.0</td>\n",
       "      <td>10.0</td>\n",
       "    </tr>\n",
       "    <tr>\n",
       "      <th>Nice</th>\n",
       "      <td>2724.0</td>\n",
       "      <td>733.0</td>\n",
       "      <td>1.0</td>\n",
       "      <td>29.0</td>\n",
       "      <td>1.0</td>\n",
       "    </tr>\n",
       "    <tr>\n",
       "      <th>Strasbourg</th>\n",
       "      <td>1693.0</td>\n",
       "      <td>665.0</td>\n",
       "      <td>29.0</td>\n",
       "      <td>29.0</td>\n",
       "      <td>53.0</td>\n",
       "    </tr>\n",
       "    <tr>\n",
       "      <th>Brest</th>\n",
       "      <td>1605.0</td>\n",
       "      <td>1211.0</td>\n",
       "      <td>7.0</td>\n",
       "      <td>12.0</td>\n",
       "      <td>75.0</td>\n",
       "    </tr>\n",
       "  </tbody>\n",
       "</table>\n",
       "</div>"
      ],
      "text/plain": [
       "                                    Ensoleillement (h/an)  Pluie (mm/an)  Neige (j/an)  Orage (j/an)  Brouillard (j/an)\n",
       "Moyenne nationale                                  1973.0          770.0          14.0          22.0               40.0\n",
       "Grenoble (Aéroport Grenoble-Isère)                 2066.0          934.0          17.0          32.0               28.0\n",
       "Paris                                              1661.0          637.0          12.0          18.0               10.0\n",
       "Nice                                               2724.0          733.0           1.0          29.0                1.0\n",
       "Strasbourg                                         1693.0          665.0          29.0          29.0               53.0\n",
       "Brest                                              1605.0         1211.0           7.0          12.0               75.0"
      ]
     },
     "execution_count": 4,
     "metadata": {},
     "output_type": "execute_result"
    }
   ],
   "source": [
    "# On tranforme le text en document BS\n",
    "soup = bs4.BeautifulSoup(page,\"lxml\")\n",
    "\n",
    "# On ne recupere que les tableaux\n",
    "table = soup.find_all('table')\n",
    "\n",
    "# On ne recupere que les tableaux de la class wikitable centre\n",
    "tableData = [tbl for tbl in table if not tbl.get('class') is None \n",
    "             if tbl.get('class') == ['wikitable','centre']]\n",
    "\n",
    "# TODO On recupere le tableau qui a le mot meteo en caption\n",
    "tableName = 'Comparaison des données météorologiques de Grenoble'\n",
    "meteoData = [x for x in tableData if not x.caption is None][0]\n",
    "\n",
    "# Recuperation des entetes de colonnede tableau\n",
    "entetesC = meteoData.find('tr').find_all('th')\n",
    "entetesC = [e.text for e in entetesC]\n",
    "entetesC = [e.replace('\\n','') for e in entetesC]\n",
    "\n",
    "# Recupération des entetes de ligne\n",
    "entetesL = meteoData.find_all('tr')[1:]\n",
    "entetesL = [val.find('th').text for val in entetesL]\n",
    "\n",
    "# Recuperation des valeurs\n",
    "valeurs = meteoData.find_all('tr')[1:]\n",
    "valeurs = [tr.find_all('td') for tr in valeurs]\n",
    "valeurs = [[float(td.text.replace(' ','')) for td in lotd] for lotd in valeurs]\n",
    "\n",
    "# Enregistrement au format python\n",
    "df = pd.DataFrame(valeurs,index = entetesL,columns = entetesC[1:])\n",
    "\n"
   ]
  },
  {
   "cell_type": "markdown",
   "metadata": {},
   "source": [
    "# Quelques viz"
   ]
  },
  {
   "cell_type": "code",
   "execution_count": 13,
   "metadata": {
    "collapsed": false
   },
   "outputs": [
    {
     "data": {
      "text/html": [
       "<div>\n",
       "<table border=\"1\" class=\"dataframe\">\n",
       "  <thead>\n",
       "    <tr style=\"text-align: right;\">\n",
       "      <th></th>\n",
       "      <th>Ensoleillement (h/an)</th>\n",
       "      <th>Pluie (mm/an)</th>\n",
       "      <th>Neige (j/an)</th>\n",
       "      <th>Orage (j/an)</th>\n",
       "      <th>Brouillard (j/an)</th>\n",
       "    </tr>\n",
       "  </thead>\n",
       "  <tbody>\n",
       "    <tr>\n",
       "      <th>Brest</th>\n",
       "      <td>1605.0</td>\n",
       "      <td>1211.0</td>\n",
       "      <td>7.0</td>\n",
       "      <td>12.0</td>\n",
       "      <td>75.0</td>\n",
       "    </tr>\n",
       "    <tr>\n",
       "      <th>Paris</th>\n",
       "      <td>1661.0</td>\n",
       "      <td>637.0</td>\n",
       "      <td>12.0</td>\n",
       "      <td>18.0</td>\n",
       "      <td>10.0</td>\n",
       "    </tr>\n",
       "    <tr>\n",
       "      <th>Strasbourg</th>\n",
       "      <td>1693.0</td>\n",
       "      <td>665.0</td>\n",
       "      <td>29.0</td>\n",
       "      <td>29.0</td>\n",
       "      <td>53.0</td>\n",
       "    </tr>\n",
       "    <tr>\n",
       "      <th>Moyenne nationale</th>\n",
       "      <td>1973.0</td>\n",
       "      <td>770.0</td>\n",
       "      <td>14.0</td>\n",
       "      <td>22.0</td>\n",
       "      <td>40.0</td>\n",
       "    </tr>\n",
       "    <tr>\n",
       "      <th>Grenoble (Aéroport Grenoble-Isère)</th>\n",
       "      <td>2066.0</td>\n",
       "      <td>934.0</td>\n",
       "      <td>17.0</td>\n",
       "      <td>32.0</td>\n",
       "      <td>28.0</td>\n",
       "    </tr>\n",
       "    <tr>\n",
       "      <th>Nice</th>\n",
       "      <td>2724.0</td>\n",
       "      <td>733.0</td>\n",
       "      <td>1.0</td>\n",
       "      <td>29.0</td>\n",
       "      <td>1.0</td>\n",
       "    </tr>\n",
       "  </tbody>\n",
       "</table>\n",
       "</div>"
      ],
      "text/plain": [
       "                                    Ensoleillement (h/an)  Pluie (mm/an)  Neige (j/an)  Orage (j/an)  Brouillard (j/an)\n",
       "Brest                                              1605.0         1211.0           7.0          12.0               75.0\n",
       "Paris                                              1661.0          637.0          12.0          18.0               10.0\n",
       "Strasbourg                                         1693.0          665.0          29.0          29.0               53.0\n",
       "Moyenne nationale                                  1973.0          770.0          14.0          22.0               40.0\n",
       "Grenoble (Aéroport Grenoble-Isère)                 2066.0          934.0          17.0          32.0               28.0\n",
       "Nice                                               2724.0          733.0           1.0          29.0                1.0"
      ]
     },
     "execution_count": 13,
     "metadata": {},
     "output_type": "execute_result"
    }
   ],
   "source": [
    "classeParEnsoleillement = df.sort_values(by='Ensoleillement (h/an)')\n",
    "classeParEnsoleillement"
   ]
  },
  {
   "cell_type": "code",
   "execution_count": 15,
   "metadata": {
    "collapsed": false
   },
   "outputs": [
    {
     "data": {
      "image/png": "[encoded data removed]",
      "text/plain": [
       "<matplotlib.figure.Figure at 0x7feed7828400>"
      ]
     },
     "metadata": {},
     "output_type": "display_data"
    }
   ],
   "source": [
    "classeParEnsoleillement = df.sort_values(by='Ensoleillement (h/an)')\n",
    "with sns.axes_style(\"white\"):\n",
    "    sns.barplot(x = ['Brest','Paris','Strasbourg','Moyenne Nat','Grenoble','Nice'],\n",
    "                y=\"Ensoleillement (h/an)\",data = classeParEnsoleillement,color=\"lightblue\")\n",
    "    plt.title('Ensoleillement des grandes villes de France')\n",
    "    plt.ylabel('Ensoleillement (h/an)', fontsize=16)"
   ]
  },
  {
   "cell_type": "code",
   "execution_count": 20,
   "metadata": {
    "collapsed": false
   },
   "outputs": [
    {
     "data": {
      "text/html": [
       "<div>\n",
       "<table border=\"1\" class=\"dataframe\">\n",
       "  <thead>\n",
       "    <tr style=\"text-align: right;\">\n",
       "      <th></th>\n",
       "      <th>Ensoleillement (h/an)</th>\n",
       "      <th>Pluie (mm/an)</th>\n",
       "      <th>Neige (j/an)</th>\n",
       "      <th>Orage (j/an)</th>\n",
       "      <th>Brouillard (j/an)</th>\n",
       "    </tr>\n",
       "  </thead>\n",
       "  <tbody>\n",
       "    <tr>\n",
       "      <th>Paris</th>\n",
       "      <td>1661.0</td>\n",
       "      <td>637.0</td>\n",
       "      <td>12.0</td>\n",
       "      <td>18.0</td>\n",
       "      <td>10.0</td>\n",
       "    </tr>\n",
       "    <tr>\n",
       "      <th>Strasbourg</th>\n",
       "      <td>1693.0</td>\n",
       "      <td>665.0</td>\n",
       "      <td>29.0</td>\n",
       "      <td>29.0</td>\n",
       "      <td>53.0</td>\n",
       "    </tr>\n",
       "    <tr>\n",
       "      <th>Nice</th>\n",
       "      <td>2724.0</td>\n",
       "      <td>733.0</td>\n",
       "      <td>1.0</td>\n",
       "      <td>29.0</td>\n",
       "      <td>1.0</td>\n",
       "    </tr>\n",
       "    <tr>\n",
       "      <th>Moyenne nationale</th>\n",
       "      <td>1973.0</td>\n",
       "      <td>770.0</td>\n",
       "      <td>14.0</td>\n",
       "      <td>22.0</td>\n",
       "      <td>40.0</td>\n",
       "    </tr>\n",
       "    <tr>\n",
       "      <th>Grenoble (Aéroport Grenoble-Isère)</th>\n",
       "      <td>2066.0</td>\n",
       "      <td>934.0</td>\n",
       "      <td>17.0</td>\n",
       "      <td>32.0</td>\n",
       "      <td>28.0</td>\n",
       "    </tr>\n",
       "    <tr>\n",
       "      <th>Brest</th>\n",
       "      <td>1605.0</td>\n",
       "      <td>1211.0</td>\n",
       "      <td>7.0</td>\n",
       "      <td>12.0</td>\n",
       "      <td>75.0</td>\n",
       "    </tr>\n",
       "  </tbody>\n",
       "</table>\n",
       "</div>"
      ],
      "text/plain": [
       "                                    Ensoleillement (h/an)  Pluie (mm/an)  Neige (j/an)  Orage (j/an)  Brouillard (j/an)\n",
       "Paris                                              1661.0          637.0          12.0          18.0               10.0\n",
       "Strasbourg                                         1693.0          665.0          29.0          29.0               53.0\n",
       "Nice                                               2724.0          733.0           1.0          29.0                1.0\n",
       "Moyenne nationale                                  1973.0          770.0          14.0          22.0               40.0\n",
       "Grenoble (Aéroport Grenoble-Isère)                 2066.0          934.0          17.0          32.0               28.0\n",
       "Brest                                              1605.0         1211.0           7.0          12.0               75.0"
      ]
     },
     "execution_count": 20,
     "metadata": {},
     "output_type": "execute_result"
    }
   ],
   "source": [
    "classeParPluviometrie = df.sort_values(by='Pluie (mm/an)')\n",
    "classeParPluviometrie"
   ]
  },
  {
   "cell_type": "code",
   "execution_count": 21,
   "metadata": {
    "collapsed": false
   },
   "outputs": [
    {
     "data": {
      "image/png": "[encoded data removed]",
      "text/plain": [
       "<matplotlib.figure.Figure at 0x7feed78c6240>"
      ]
     },
     "metadata": {},
     "output_type": "display_data"
    }
   ],
   "source": [
    "with sns.axes_style(\"white\"):\n",
    "    sns.barplot(x = ['Paris','Strasbourg','Nice','MoyenneNat','Grenoble','Brest'],\n",
    "                y=\"Pluie (mm/an)\",data = classeParPluviometrie,color=\"pink\")\n",
    "    plt.title('Pluviométrie des grandes villes de France')\n",
    "    plt.ylabel('Pluviométrie (mm/an)', fontsize=16)"
   ]
  },
  {
   "cell_type": "code",
   "execution_count": null,
   "metadata": {
    "collapsed": true
   },
   "outputs": [],
   "source": []
  }
 ],
 "metadata": {
  "kernelspec": {
   "display_name": "Python 3",
   "language": "python",
   "name": "python3"
  },
  "language_info": {
   "codemirror_mode": {
    "name": "ipython",
    "version": 3
   },
   "file_extension": ".py",
   "mimetype": "text/x-python",
   "name": "python",
   "nbconvert_exporter": "python",
   "pygments_lexer": "ipython3",
   "version": "3.5.1"
  }
 },
 "nbformat": 4,
 "nbformat_minor": 0
}
