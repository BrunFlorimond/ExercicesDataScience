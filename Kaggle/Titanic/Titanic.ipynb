{
 "cells": [
  {
   "cell_type": "markdown",
   "metadata": {},
   "source": [
    "# Titanic Training"
   ]
  },
  {
   "cell_type": "code",
   "execution_count": 1,
   "metadata": {
    "collapsed": true
   },
   "outputs": [],
   "source": [
    "# imports\n",
    "%matplotlib inline\n",
    "import numpy as np\n",
    "import scipy as sp\n",
    "import matplotlib as mpl\n",
    "import matplotlib.cm as cm\n",
    "import matplotlib.pyplot as plt\n",
    "import pandas as pd\n",
    "pd.set_option('display.width', 500)\n",
    "pd.set_option('display.max_columns', 100)\n",
    "pd.set_option('display.notebook_repr_html', True)\n",
    "import seaborn as sns\n",
    "sns.set_style(\"whitegrid\")"
   ]
  },
  {
   "cell_type": "code",
   "execution_count": 2,
   "metadata": {
    "collapsed": true
   },
   "outputs": [],
   "source": [
    "# Reading of the dataset\n",
    "dataset = pd.read_csv('data/train.csv')"
   ]
  },
  {
   "cell_type": "code",
   "execution_count": 3,
   "metadata": {
    "collapsed": false
   },
   "outputs": [
    {
     "data": {
      "text/plain": [
       "(891, 12)"
      ]
     },
     "execution_count": 3,
     "metadata": {},
     "output_type": "execute_result"
    }
   ],
   "source": [
    "# Checking dimensions\n",
    "dataset.shape"
   ]
  },
  {
   "cell_type": "code",
   "execution_count": 4,
   "metadata": {
    "collapsed": false
   },
   "outputs": [
    {
     "data": {
      "text/html": [
       "<div>\n",
       "<table border=\"1\" class=\"dataframe\">\n",
       "  <thead>\n",
       "    <tr style=\"text-align: right;\">\n",
       "      <th></th>\n",
       "      <th>PassengerId</th>\n",
       "      <th>Survived</th>\n",
       "      <th>Pclass</th>\n",
       "      <th>Name</th>\n",
       "      <th>Sex</th>\n",
       "      <th>Age</th>\n",
       "      <th>SibSp</th>\n",
       "      <th>Parch</th>\n",
       "      <th>Ticket</th>\n",
       "      <th>Fare</th>\n",
       "      <th>Cabin</th>\n",
       "      <th>Embarked</th>\n",
       "    </tr>\n",
       "  </thead>\n",
       "  <tbody>\n",
       "    <tr>\n",
       "      <th>0</th>\n",
       "      <td>1</td>\n",
       "      <td>0</td>\n",
       "      <td>3</td>\n",
       "      <td>Braund, Mr. Owen Harris</td>\n",
       "      <td>male</td>\n",
       "      <td>22.0</td>\n",
       "      <td>1</td>\n",
       "      <td>0</td>\n",
       "      <td>A/5 21171</td>\n",
       "      <td>7.2500</td>\n",
       "      <td>NaN</td>\n",
       "      <td>S</td>\n",
       "    </tr>\n",
       "    <tr>\n",
       "      <th>1</th>\n",
       "      <td>2</td>\n",
       "      <td>1</td>\n",
       "      <td>1</td>\n",
       "      <td>Cumings, Mrs. John Bradley (Florence Briggs Th...</td>\n",
       "      <td>female</td>\n",
       "      <td>38.0</td>\n",
       "      <td>1</td>\n",
       "      <td>0</td>\n",
       "      <td>PC 17599</td>\n",
       "      <td>71.2833</td>\n",
       "      <td>C85</td>\n",
       "      <td>C</td>\n",
       "    </tr>\n",
       "    <tr>\n",
       "      <th>2</th>\n",
       "      <td>3</td>\n",
       "      <td>1</td>\n",
       "      <td>3</td>\n",
       "      <td>Heikkinen, Miss. Laina</td>\n",
       "      <td>female</td>\n",
       "      <td>26.0</td>\n",
       "      <td>0</td>\n",
       "      <td>0</td>\n",
       "      <td>STON/O2. 3101282</td>\n",
       "      <td>7.9250</td>\n",
       "      <td>NaN</td>\n",
       "      <td>S</td>\n",
       "    </tr>\n",
       "    <tr>\n",
       "      <th>3</th>\n",
       "      <td>4</td>\n",
       "      <td>1</td>\n",
       "      <td>1</td>\n",
       "      <td>Futrelle, Mrs. Jacques Heath (Lily May Peel)</td>\n",
       "      <td>female</td>\n",
       "      <td>35.0</td>\n",
       "      <td>1</td>\n",
       "      <td>0</td>\n",
       "      <td>113803</td>\n",
       "      <td>53.1000</td>\n",
       "      <td>C123</td>\n",
       "      <td>S</td>\n",
       "    </tr>\n",
       "    <tr>\n",
       "      <th>4</th>\n",
       "      <td>5</td>\n",
       "      <td>0</td>\n",
       "      <td>3</td>\n",
       "      <td>Allen, Mr. William Henry</td>\n",
       "      <td>male</td>\n",
       "      <td>35.0</td>\n",
       "      <td>0</td>\n",
       "      <td>0</td>\n",
       "      <td>373450</td>\n",
       "      <td>8.0500</td>\n",
       "      <td>NaN</td>\n",
       "      <td>S</td>\n",
       "    </tr>\n",
       "  </tbody>\n",
       "</table>\n",
       "</div>"
      ],
      "text/plain": [
       "   PassengerId  Survived  Pclass                                               Name     Sex   Age  SibSp  Parch            Ticket     Fare Cabin Embarked\n",
       "0            1         0       3                            Braund, Mr. Owen Harris    male  22.0      1      0         A/5 21171   7.2500   NaN        S\n",
       "1            2         1       1  Cumings, Mrs. John Bradley (Florence Briggs Th...  female  38.0      1      0          PC 17599  71.2833   C85        C\n",
       "2            3         1       3                             Heikkinen, Miss. Laina  female  26.0      0      0  STON/O2. 3101282   7.9250   NaN        S\n",
       "3            4         1       1       Futrelle, Mrs. Jacques Heath (Lily May Peel)  female  35.0      1      0            113803  53.1000  C123        S\n",
       "4            5         0       3                           Allen, Mr. William Henry    male  35.0      0      0            373450   8.0500   NaN        S"
      ]
     },
     "execution_count": 4,
     "metadata": {},
     "output_type": "execute_result"
    }
   ],
   "source": [
    "# checking columns names\n",
    "dataset.head()"
   ]
  },
  {
   "cell_type": "code",
   "execution_count": 5,
   "metadata": {
    "collapsed": false
   },
   "outputs": [
    {
     "name": "stdout",
     "output_type": "stream",
     "text": [
      "<class 'pandas.core.frame.DataFrame'>\n",
      "RangeIndex: 891 entries, 0 to 890\n",
      "Data columns (total 12 columns):\n",
      "PassengerId    891 non-null int64\n",
      "Survived       891 non-null int64\n",
      "Pclass         891 non-null int64\n",
      "Name           891 non-null object\n",
      "Sex            891 non-null object\n",
      "Age            714 non-null float64\n",
      "SibSp          891 non-null int64\n",
      "Parch          891 non-null int64\n",
      "Ticket         891 non-null object\n",
      "Fare           891 non-null float64\n",
      "Cabin          204 non-null object\n",
      "Embarked       889 non-null object\n",
      "dtypes: float64(2), int64(5), object(5)\n",
      "memory usage: 83.6+ KB\n"
     ]
    }
   ],
   "source": [
    "# checking columns types\n",
    "dataset.info()"
   ]
  },
  {
   "cell_type": "raw",
   "metadata": {},
   "source": [
    "VARIABLE DESCRIPTIONS:\n",
    "survival        Survival\n",
    "                (0 = No; 1 = Yes)\n",
    "pclass          Passenger Class\n",
    "                (1 = 1st; 2 = 2nd; 3 = 3rd)\n",
    "name            Name\n",
    "sex             Sex\n",
    "age             Age\n",
    "sibsp           Number of Siblings/Spouses Aboard\n",
    "parch           Number of Parents/Children Aboard\n",
    "ticket          Ticket Number\n",
    "fare            Passenger Fare\n",
    "cabin           Cabin\n",
    "embarked        Port of Embarkation\n",
    "                (C = Cherbourg; Q = Queenstown; S = Southampton)\n",
    "\n",
    "SPECIAL NOTES:\n",
    "Pclass is a proxy for socio-economic status (SES)\n",
    " 1st ~ Upper; 2nd ~ Middle; 3rd ~ Lower\n",
    "\n",
    "Age is in Years; Fractional if Age less than One (1)\n",
    " If the Age is Estimated, it is in the form xx.5\n",
    "\n",
    "With respect to the family relation variables (i.e. sibsp and parch)\n",
    "some relations were ignored.  The following are the definitions used\n",
    "for sibsp and parch.\n",
    "\n",
    "Sibling:  Brother, Sister, Stepbrother, or Stepsister of Passenger Aboard Titanic\n",
    "Spouse:   Husband or Wife of Passenger Aboard Titanic (Mistresses and Fiances Ignored)\n",
    "Parent:   Mother or Father of Passenger Aboard Titanic\n",
    "Child:    Son, Daughter, Stepson, or Stepdaughter of Passenger Aboard Titanic\n",
    "\n",
    "Other family relatives excluded from this study include cousins,\n",
    "nephews/nieces, aunts/uncles, and in-laws.  Some children travelled\n",
    "only with a nanny, therefore parch=0 for them.  As well, some\n",
    "travelled with very close friends or neighbors in a village, however,\n",
    "the definitions do not support such relations."
   ]
  },
  {
   "cell_type": "code",
   "execution_count": 6,
   "metadata": {
    "collapsed": false
   },
   "outputs": [
    {
     "data": {
      "text/html": [
       "<div>\n",
       "<table border=\"1\" class=\"dataframe\">\n",
       "  <thead>\n",
       "    <tr style=\"text-align: right;\">\n",
       "      <th></th>\n",
       "      <th>PassengerId</th>\n",
       "      <th>Survived</th>\n",
       "      <th>Pclass</th>\n",
       "      <th>Age</th>\n",
       "      <th>SibSp</th>\n",
       "      <th>Parch</th>\n",
       "      <th>Fare</th>\n",
       "    </tr>\n",
       "  </thead>\n",
       "  <tbody>\n",
       "    <tr>\n",
       "      <th>count</th>\n",
       "      <td>891.000000</td>\n",
       "      <td>891.000000</td>\n",
       "      <td>891.000000</td>\n",
       "      <td>714.000000</td>\n",
       "      <td>891.000000</td>\n",
       "      <td>891.000000</td>\n",
       "      <td>891.000000</td>\n",
       "    </tr>\n",
       "    <tr>\n",
       "      <th>mean</th>\n",
       "      <td>446.000000</td>\n",
       "      <td>0.383838</td>\n",
       "      <td>2.308642</td>\n",
       "      <td>29.699118</td>\n",
       "      <td>0.523008</td>\n",
       "      <td>0.381594</td>\n",
       "      <td>32.204208</td>\n",
       "    </tr>\n",
       "    <tr>\n",
       "      <th>std</th>\n",
       "      <td>257.353842</td>\n",
       "      <td>0.486592</td>\n",
       "      <td>0.836071</td>\n",
       "      <td>14.526497</td>\n",
       "      <td>1.102743</td>\n",
       "      <td>0.806057</td>\n",
       "      <td>49.693429</td>\n",
       "    </tr>\n",
       "    <tr>\n",
       "      <th>min</th>\n",
       "      <td>1.000000</td>\n",
       "      <td>0.000000</td>\n",
       "      <td>1.000000</td>\n",
       "      <td>0.420000</td>\n",
       "      <td>0.000000</td>\n",
       "      <td>0.000000</td>\n",
       "      <td>0.000000</td>\n",
       "    </tr>\n",
       "    <tr>\n",
       "      <th>25%</th>\n",
       "      <td>223.500000</td>\n",
       "      <td>0.000000</td>\n",
       "      <td>2.000000</td>\n",
       "      <td>20.125000</td>\n",
       "      <td>0.000000</td>\n",
       "      <td>0.000000</td>\n",
       "      <td>7.910400</td>\n",
       "    </tr>\n",
       "    <tr>\n",
       "      <th>50%</th>\n",
       "      <td>446.000000</td>\n",
       "      <td>0.000000</td>\n",
       "      <td>3.000000</td>\n",
       "      <td>28.000000</td>\n",
       "      <td>0.000000</td>\n",
       "      <td>0.000000</td>\n",
       "      <td>14.454200</td>\n",
       "    </tr>\n",
       "    <tr>\n",
       "      <th>75%</th>\n",
       "      <td>668.500000</td>\n",
       "      <td>1.000000</td>\n",
       "      <td>3.000000</td>\n",
       "      <td>38.000000</td>\n",
       "      <td>1.000000</td>\n",
       "      <td>0.000000</td>\n",
       "      <td>31.000000</td>\n",
       "    </tr>\n",
       "    <tr>\n",
       "      <th>max</th>\n",
       "      <td>891.000000</td>\n",
       "      <td>1.000000</td>\n",
       "      <td>3.000000</td>\n",
       "      <td>80.000000</td>\n",
       "      <td>8.000000</td>\n",
       "      <td>6.000000</td>\n",
       "      <td>512.329200</td>\n",
       "    </tr>\n",
       "  </tbody>\n",
       "</table>\n",
       "</div>"
      ],
      "text/plain": [
       "       PassengerId    Survived      Pclass         Age       SibSp       Parch        Fare\n",
       "count   891.000000  891.000000  891.000000  714.000000  891.000000  891.000000  891.000000\n",
       "mean    446.000000    0.383838    2.308642   29.699118    0.523008    0.381594   32.204208\n",
       "std     257.353842    0.486592    0.836071   14.526497    1.102743    0.806057   49.693429\n",
       "min       1.000000    0.000000    1.000000    0.420000    0.000000    0.000000    0.000000\n",
       "25%     223.500000    0.000000    2.000000   20.125000    0.000000    0.000000    7.910400\n",
       "50%     446.000000    0.000000    3.000000   28.000000    0.000000    0.000000   14.454200\n",
       "75%     668.500000    1.000000    3.000000   38.000000    1.000000    0.000000   31.000000\n",
       "max     891.000000    1.000000    3.000000   80.000000    8.000000    6.000000  512.329200"
      ]
     },
     "execution_count": 6,
     "metadata": {},
     "output_type": "execute_result"
    }
   ],
   "source": [
    "# Simple Statistics\n",
    "dataset.describe()"
   ]
  },
  {
   "cell_type": "markdown",
   "metadata": {},
   "source": [
    "* 38.4 %  survived\n",
    "* mean age of passenger : 29\n",
    "* mean fare : 32"
   ]
  },
  {
   "cell_type": "code",
   "execution_count": 7,
   "metadata": {
    "collapsed": false
   },
   "outputs": [
    {
     "data": {
      "text/plain": [
       "PassengerId    1.000000\n",
       "Survived       1.000000\n",
       "Pclass         1.000000\n",
       "Name           1.000000\n",
       "Sex            1.000000\n",
       "Age            0.801347\n",
       "SibSp          1.000000\n",
       "Parch          1.000000\n",
       "Ticket         1.000000\n",
       "Fare           1.000000\n",
       "Cabin          0.228956\n",
       "Embarked       0.997755\n",
       "dtype: float64"
      ]
     },
     "execution_count": 7,
     "metadata": {},
     "output_type": "execute_result"
    }
   ],
   "source": [
    "dataset.notnull().mean()"
   ]
  },
  {
   "cell_type": "markdown",
   "metadata": {},
   "source": [
    "# Extracting hidden informations"
   ]
  },
  {
   "cell_type": "code",
   "execution_count": 8,
   "metadata": {
    "collapsed": false
   },
   "outputs": [],
   "source": [
    "# getting side of boat (letter of cabin)\n",
    "dataset['CabinLetter'] = dataset.Cabin.str[:1]\n",
    "dataset['CabinLetter'] = dataset['CabinLetter'].fillna('N')\n",
    "dataset['Embarked'] = dataset['Embarked'].fillna('N')"
   ]
  },
  {
   "cell_type": "code",
   "execution_count": 9,
   "metadata": {
    "collapsed": true
   },
   "outputs": [],
   "source": [
    "dataset['AgeCategory'] = pd.qcut(dataset.Age,15)"
   ]
  },
  {
   "cell_type": "markdown",
   "metadata": {},
   "source": [
    "# Analysis of Correlations"
   ]
  },
  {
   "cell_type": "code",
   "execution_count": 10,
   "metadata": {
    "collapsed": false
   },
   "outputs": [
    {
     "data": {
      "text/html": [
       "<div>\n",
       "<table border=\"1\" class=\"dataframe\">\n",
       "  <thead>\n",
       "    <tr style=\"text-align: right;\">\n",
       "      <th></th>\n",
       "      <th>PassengerId</th>\n",
       "      <th>Survived</th>\n",
       "      <th>Pclass</th>\n",
       "      <th>Age</th>\n",
       "      <th>SibSp</th>\n",
       "      <th>Parch</th>\n",
       "      <th>Fare</th>\n",
       "    </tr>\n",
       "  </thead>\n",
       "  <tbody>\n",
       "    <tr>\n",
       "      <th>PassengerId</th>\n",
       "      <td>1.000000</td>\n",
       "      <td>-0.005007</td>\n",
       "      <td>-0.035144</td>\n",
       "      <td>0.036847</td>\n",
       "      <td>-0.057527</td>\n",
       "      <td>-0.001652</td>\n",
       "      <td>0.012658</td>\n",
       "    </tr>\n",
       "    <tr>\n",
       "      <th>Survived</th>\n",
       "      <td>-0.005007</td>\n",
       "      <td>1.000000</td>\n",
       "      <td>-0.338481</td>\n",
       "      <td>-0.077221</td>\n",
       "      <td>-0.035322</td>\n",
       "      <td>0.081629</td>\n",
       "      <td>0.257307</td>\n",
       "    </tr>\n",
       "    <tr>\n",
       "      <th>Pclass</th>\n",
       "      <td>-0.035144</td>\n",
       "      <td>-0.338481</td>\n",
       "      <td>1.000000</td>\n",
       "      <td>-0.369226</td>\n",
       "      <td>0.083081</td>\n",
       "      <td>0.018443</td>\n",
       "      <td>-0.549500</td>\n",
       "    </tr>\n",
       "    <tr>\n",
       "      <th>Age</th>\n",
       "      <td>0.036847</td>\n",
       "      <td>-0.077221</td>\n",
       "      <td>-0.369226</td>\n",
       "      <td>1.000000</td>\n",
       "      <td>-0.308247</td>\n",
       "      <td>-0.189119</td>\n",
       "      <td>0.096067</td>\n",
       "    </tr>\n",
       "    <tr>\n",
       "      <th>SibSp</th>\n",
       "      <td>-0.057527</td>\n",
       "      <td>-0.035322</td>\n",
       "      <td>0.083081</td>\n",
       "      <td>-0.308247</td>\n",
       "      <td>1.000000</td>\n",
       "      <td>0.414838</td>\n",
       "      <td>0.159651</td>\n",
       "    </tr>\n",
       "    <tr>\n",
       "      <th>Parch</th>\n",
       "      <td>-0.001652</td>\n",
       "      <td>0.081629</td>\n",
       "      <td>0.018443</td>\n",
       "      <td>-0.189119</td>\n",
       "      <td>0.414838</td>\n",
       "      <td>1.000000</td>\n",
       "      <td>0.216225</td>\n",
       "    </tr>\n",
       "    <tr>\n",
       "      <th>Fare</th>\n",
       "      <td>0.012658</td>\n",
       "      <td>0.257307</td>\n",
       "      <td>-0.549500</td>\n",
       "      <td>0.096067</td>\n",
       "      <td>0.159651</td>\n",
       "      <td>0.216225</td>\n",
       "      <td>1.000000</td>\n",
       "    </tr>\n",
       "  </tbody>\n",
       "</table>\n",
       "</div>"
      ],
      "text/plain": [
       "             PassengerId  Survived    Pclass       Age     SibSp     Parch      Fare\n",
       "PassengerId     1.000000 -0.005007 -0.035144  0.036847 -0.057527 -0.001652  0.012658\n",
       "Survived       -0.005007  1.000000 -0.338481 -0.077221 -0.035322  0.081629  0.257307\n",
       "Pclass         -0.035144 -0.338481  1.000000 -0.369226  0.083081  0.018443 -0.549500\n",
       "Age             0.036847 -0.077221 -0.369226  1.000000 -0.308247 -0.189119  0.096067\n",
       "SibSp          -0.057527 -0.035322  0.083081 -0.308247  1.000000  0.414838  0.159651\n",
       "Parch          -0.001652  0.081629  0.018443 -0.189119  0.414838  1.000000  0.216225\n",
       "Fare            0.012658  0.257307 -0.549500  0.096067  0.159651  0.216225  1.000000"
      ]
     },
     "execution_count": 10,
     "metadata": {},
     "output_type": "execute_result"
    }
   ],
   "source": [
    "# Correlation analysis\n",
    "dataset.corr()"
   ]
  },
  {
   "cell_type": "markdown",
   "metadata": {},
   "source": [
    "* Survived vs\n",
    " * PClass : negative. The higher the class the less probable to survive. TO INVESTIGATE\n",
    " * Age : very little correlation age - surviving. TO INVESTIGATE\n",
    " * Having parents or siblings on board is not correlated with surviving\n",
    " * Fare is correlated with surving CHECK CORRELATION FARE PCLASS\n",
    "* Pclass vs\n",
    " * Age Negative : Younger in lowest class. Age -> surviving, Class -> surviving,  age -> class -> surving TO INVESTIGATE\n",
    " * Fare Negative : Confirmation a 3rd class is cheaper\n",
    "* Age vs\n",
    " * SibSP and Parch : Negative Younger are more likely to have family in the boat. Family  not correlated with surviving ? TO INVESTIGATE\n",
    "* SibSP vs\n",
    " * Age having a sibling or a parent on board is negatively correlated with age\n",
    " * having a sibling is correlated with having a parent on board\n",
    " * Fare : family ticket ?\n",
    "\n",
    " \n",
    " "
   ]
  },
  {
   "cell_type": "markdown",
   "metadata": {},
   "source": [
    "## Cross Tabulations"
   ]
  },
  {
   "cell_type": "code",
   "execution_count": 11,
   "metadata": {
    "collapsed": false
   },
   "outputs": [],
   "source": [
    "def cross_tab(data):\n",
    "    col = ['Pclass', 'Sex', 'SibSp', 'Parch','CabinLetter','AgeCategory','Embarked']\n",
    "    l = []\n",
    "    for var in col:\n",
    "        ct = pd.crosstab(dataset.Survived, dataset[var],margins=True)\n",
    "        ct = ct/ct.ix[\"All\"]\n",
    "        l.append(ct)\n",
    "        ct = pd.DataFrame.transpose(ct)\n",
    "        ct.columns = ['died','survived','all']\n",
    "        sns.barplot(x = 'died', y = ct.index, data = ct)\n",
    "        plt.axvline(x=ct.died['All'])\n",
    "        plt.show()      \n",
    "    return l"
   ]
  },
  {
   "cell_type": "code",
   "execution_count": 12,
   "metadata": {
    "collapsed": false
   },
   "outputs": [
    {
     "data": {
      "image/png": "[encoded data removed]",
      "text/plain": [
       "<matplotlib.figure.Figure at 0x7fe99c8ed780>"
      ]
     },
     "metadata": {},
     "output_type": "display_data"
    },
    {
     "data": {
      "image/png": "[encoded data removed]",
      "text/plain": [
       "<matplotlib.figure.Figure at 0x7fe999cd1940>"
      ]
     },
     "metadata": {},
     "output_type": "display_data"
    },
    {
     "data": {
      "image/png": "[encoded data removed]",
      "text/plain": [
       "<matplotlib.figure.Figure at 0x7fe999c990b8>"
      ]
     },
     "metadata": {},
     "output_type": "display_data"
    },
    {
     "data": {
      "image/png": "[encoded data removed]",
      "text/plain": [
       "<matplotlib.figure.Figure at 0x7fe999bdada0>"
      ]
     },
     "metadata": {},
     "output_type": "display_data"
    },
    {
     "data": {
      "image/png": "[encoded data removed]",
      "text/plain": [
       "<matplotlib.figure.Figure at 0x7fe999b1f6a0>"
      ]
     },
     "metadata": {},
     "output_type": "display_data"
    },
    {
     "data": {
      "image/png": "[encoded data removed]",
      "text/plain": [
       "<matplotlib.figure.Figure at 0x7fe999b6b780>"
      ]
     },
     "metadata": {},
     "output_type": "display_data"
    },
    {
     "data": {
      "image/png": "[encoded data removed]",
      "text/plain": [
       "<matplotlib.figure.Figure at 0x7fe999c31278>"
      ]
     },
     "metadata": {},
     "output_type": "display_data"
    }
   ],
   "source": [
    "cross_tabs = cross_tab(dataset)"
   ]
  },
  {
   "cell_type": "markdown",
   "metadata": {},
   "source": [
    "* Third class had higher probability to die\n",
    "* male had higher probabiity to die\n",
    "* Having 3 or more siblings had higher probability to die, 1 and 2 is lowest\n",
    "* Having 1 to 3 parents on the boat ha lowest probability, 4 to six has highest probability\n",
    "* Having a cabin is linked to lowest probability to die. T has the highest probability\n",
    "* Age 19-21 and 27-29 and 47-47 years old has the highest probability"
   ]
  },
  {
   "cell_type": "markdown",
   "metadata": {},
   "source": [
    "## Cross tabulations by sex and probaibility to die"
   ]
  },
  {
   "cell_type": "code",
   "execution_count": 13,
   "metadata": {
    "collapsed": true
   },
   "outputs": [],
   "source": [
    "def cross_tab_sex(data):\n",
    "    col = ['Pclass', 'SibSp', 'Parch','CabinLetter','AgeCategory','Embarked']\n",
    "    l = []\n",
    "    for var in col:\n",
    "        ct = pd.crosstab(dataset.Survived, [dataset[var],dataset['Sex']], margins = True)\n",
    "        ct = ct/ct.ix[\"All\"]\n",
    "        ct = pd.DataFrame.transpose(ct)\n",
    "        ct.reset_index(inplace=True) \n",
    "        sns.heatmap(ct[[var,'Sex',0]].pivot(var,'Sex',0)[['female','male']])\n",
    "        plt.show()"
   ]
  },
  {
   "cell_type": "code",
   "execution_count": 14,
   "metadata": {
    "collapsed": false
   },
   "outputs": [
    {
     "data": {
      "image/png": "[encoded data removed]",
      "text/plain": [
       "<matplotlib.figure.Figure at 0x7fe999bf20b8>"
      ]
     },
     "metadata": {},
     "output_type": "display_data"
    },
    {
     "data": {
      "image/png": "[encoded data removed]",
      "text/plain": [
       "<matplotlib.figure.Figure at 0x7fe999cb7ac8>"
      ]
     },
     "metadata": {},
     "output_type": "display_data"
    },
    {
     "data": {
      "image/png": "[encoded data removed]",
      "text/plain": [
       "<matplotlib.figure.Figure at 0x7fe999a66da0>"
      ]
     },
     "metadata": {},
     "output_type": "display_data"
    },
    {
     "data": {
      "image/png": "[encoded data removed]",
      "text/plain": [
       "<matplotlib.figure.Figure at 0x7fe99993f208>"
      ]
     },
     "metadata": {},
     "output_type": "display_data"
    },
    {
     "data": {
      "image/png": "[encoded data removed]",
      "text/plain": [
       "<matplotlib.figure.Figure at 0x7fe999a36b00>"
      ]
     },
     "metadata": {},
     "output_type": "display_data"
    },
    {
     "data": {
      "image/png": "[encoded data removed]",
      "text/plain": [
       "<matplotlib.figure.Figure at 0x7fe999c2e860>"
      ]
     },
     "metadata": {},
     "output_type": "display_data"
    }
   ],
   "source": [
    "cross_tab_sex(dataset)"
   ]
  },
  {
   "cell_type": "markdown",
   "metadata": {},
   "source": [
    "# Age Predictions"
   ]
  },
  {
   "cell_type": "code",
   "execution_count": 15,
   "metadata": {
    "collapsed": false
   },
   "outputs": [],
   "source": [
    "# fn to convert number columns to string\n",
    "def convert_to_string(df,col):\n",
    "    for c in col:\n",
    "        dataset[c] = dataset[c].apply(str)\n"
   ]
  },
  {
   "cell_type": "code",
   "execution_count": 16,
   "metadata": {
    "collapsed": false
   },
   "outputs": [],
   "source": [
    "# Setting categories dummies\n",
    "convert_to_string(dataset,['Pclass','Parch','SibSp'])\n",
    "dataset_dummies = pd.get_dummies(dataset[['Pclass','Sex','Parch','SibSp','Embarked','CabinLetter']])\n",
    "dataset_dummies = dataset_dummies.join(dataset[['Fare','Age']])"
   ]
  },
  {
   "cell_type": "markdown",
   "metadata": {},
   "source": [
    "## Age prediction"
   ]
  },
  {
   "cell_type": "markdown",
   "metadata": {},
   "source": [
    "* 1 Filtering out lines without age\n",
    "* 2 Dummies creation\n",
    "* 3 Dimensionnality Reduction with Factor Analysis method to N dimensions\n",
    "* 4 Classifier tuning with grid search\n",
    "* 5 Classifier prediction\n",
    "* 6 Estimation of MSE\n",
    "* 7 Selection of best classifier with best hyperparameter\n"
   ]
  },
  {
   "cell_type": "code",
   "execution_count": 17,
   "metadata": {
    "collapsed": false
   },
   "outputs": [],
   "source": [
    "# Filtering out lines wihtout age\n",
    "dataset_dummies_age = dataset_dummies[dataset_dummies.Age.notnull()]"
   ]
  },
  {
   "cell_type": "code",
   "execution_count": 18,
   "metadata": {
    "collapsed": true
   },
   "outputs": [],
   "source": [
    "# loading libraries\n",
    "from sklearn.grid_search import GridSearchCV\n",
    "from sklearn.neighbors import KNeighborsRegressor\n",
    "from sklearn.cross_validation import train_test_split\n",
    "from sklearn.metrics import mean_squared_error\n",
    "from sklearn.linear_model import Ridge\n",
    "from sklearn.linear_model import Lasso\n",
    "from sklearn.decomposition import PCA\n",
    "from sklearn.cross_validation import KFold\n",
    "from sklearn.decomposition import FactorAnalysis\n",
    "from sklearn.linear_model import LinearRegression"
   ]
  },
  {
   "cell_type": "code",
   "execution_count": 19,
   "metadata": {
    "collapsed": false
   },
   "outputs": [],
   "source": [
    "# dividing dataset between train and test\n",
    "X = dataset_dummies_age[['Pclass_1','Pclass_2','Pclass_3',\n",
    "           'Sex_female','Sex_male',\n",
    "           'Parch_0','Parch_1','Parch_2','Parch_3','Parch_4','Parch_5','Parch_6',\n",
    "           'SibSp_0','SibSp_1', 'SibSp_2','SibSp_3','SibSp_4','SibSp_5','SibSp_8',\n",
    "           'Embarked_C','Embarked_Q','Embarked_S',\n",
    "           'CabinLetter_A', 'CabinLetter_B', 'CabinLetter_C', 'CabinLetter_D', 'CabinLetter_E', 'CabinLetter_F',\n",
    "           'CabinLetter_G', 'CabinLetter_N', 'CabinLetter_T',\n",
    "           'Fare']]\n",
    "Y = dataset_dummies_age['Age']\n",
    "X_train, X_test, y_train, y_test = train_test_split(X,Y,test_size = 0.33)\n"
   ]
  },
  {
   "cell_type": "markdown",
   "metadata": {},
   "source": [
    "### Search best estimator for Age prediction"
   ]
  },
  {
   "cell_type": "code",
   "execution_count": 20,
   "metadata": {
    "collapsed": false
   },
   "outputs": [],
   "source": [
    "def test_estimator(clf,param_grid,Xt,Yt):\n",
    "    \n",
    "    dimensions = Xt.shape[1] - 1\n",
    "    scores = []\n",
    "    \n",
    "    # Divide into subset\n",
    "    folds = KFold(Xt.shape[0], n_folds=5)\n",
    "    \n",
    "    # Grid search parameters\n",
    "    gs = GridSearchCV(estimator = clf,\n",
    "                  param_grid = param_grid,\n",
    "                  cv = 5)\n",
    "    \n",
    "    #For each dimensions\n",
    "    for d in range(2,dimensions):\n",
    "        components = FactorAnalysis(n_components = d)\n",
    "        print('En cours : ', d)\n",
    "        \n",
    "        # For each subset \n",
    "        for train_index,test_index in folds:\n",
    "            \n",
    "            # separate train and test\n",
    "            X_train_ = Xt.iloc[train_index]\n",
    "            Y_train_ = Yt.iloc[train_index]\n",
    "            X_test_ = Xt.iloc[test_index]\n",
    "            Y_test_ = Yt.iloc[test_index]\n",
    "            \n",
    "            # Reduce dimensionality\n",
    "            X_train_reduced = components.fit_transform(X_train_)\n",
    "            X_test_reduced = components.transform(X_test_)\n",
    "            \n",
    "            # Predict \n",
    "            predicted = gs.fit(X_train_reduced,Y_train_).predict(X_test_reduced)\n",
    "            \n",
    "            # Estimate MSE\n",
    "            acc = mean_squared_error(predicted,Y_test_)\n",
    "            \n",
    "            # append MSE to table\n",
    "            scores.append({'dimensions':d,'params' : gs.best_params_, 'score' : acc})\n",
    "            \n",
    "    return scores"
   ]
  },
  {
   "cell_type": "code",
   "execution_count": 21,
   "metadata": {
    "collapsed": true
   },
   "outputs": [],
   "source": [
    "# Automatic search of estimators\n",
    "def test_estimators(clf_params,Xt,Yt):\n",
    "    result = []\n",
    "    for clf,params in clf_params:\n",
    "        result.append(test_estimator(clf,params,Xt,Yt))\n",
    "    return result"
   ]
  },
  {
   "cell_type": "code",
   "execution_count": 22,
   "metadata": {
    "collapsed": false
   },
   "outputs": [
    {
     "name": "stdout",
     "output_type": "stream",
     "text": [
      "En cours :  2\n",
      "En cours :  3\n",
      "En cours :  4\n",
      "En cours :  5\n",
      "En cours :  6\n",
      "En cours :  7\n",
      "En cours :  8\n",
      "En cours :  9\n",
      "En cours :  10\n",
      "En cours :  11\n",
      "En cours :  12\n",
      "En cours :  13\n",
      "En cours :  14\n",
      "En cours :  15\n",
      "En cours :  16\n",
      "En cours :  17\n",
      "En cours :  18\n",
      "En cours :  19\n",
      "En cours :  20\n",
      "En cours :  21\n",
      "En cours :  22\n",
      "En cours :  23\n",
      "En cours :  24\n",
      "En cours :  25\n",
      "En cours :  26\n",
      "En cours :  27\n",
      "En cours :  28\n",
      "En cours :  29\n",
      "En cours :  30\n",
      "En cours :  2\n",
      "En cours :  3\n",
      "En cours :  4\n",
      "En cours :  5\n",
      "En cours :  6\n",
      "En cours :  7\n",
      "En cours :  8\n",
      "En cours :  9\n",
      "En cours :  10\n",
      "En cours :  11\n",
      "En cours :  12\n",
      "En cours :  13\n",
      "En cours :  14\n",
      "En cours :  15\n",
      "En cours :  16\n",
      "En cours :  17\n",
      "En cours :  18\n",
      "En cours :  19\n",
      "En cours :  20\n",
      "En cours :  21\n",
      "En cours :  22\n",
      "En cours :  23\n",
      "En cours :  24\n",
      "En cours :  25\n",
      "En cours :  26\n",
      "En cours :  27\n",
      "En cours :  28\n",
      "En cours :  29\n",
      "En cours :  30\n",
      "En cours :  2\n",
      "En cours :  3\n",
      "En cours :  4\n",
      "En cours :  5\n",
      "En cours :  6\n",
      "En cours :  7\n",
      "En cours :  8\n",
      "En cours :  9\n",
      "En cours :  10\n",
      "En cours :  11\n",
      "En cours :  12\n",
      "En cours :  13\n",
      "En cours :  14\n",
      "En cours :  15\n",
      "En cours :  16\n",
      "En cours :  17\n",
      "En cours :  18\n",
      "En cours :  19\n",
      "En cours :  20\n",
      "En cours :  21\n",
      "En cours :  22\n",
      "En cours :  23\n",
      "En cours :  24\n",
      "En cours :  25\n",
      "En cours :  26\n",
      "En cours :  27\n",
      "En cours :  28\n",
      "En cours :  29\n",
      "En cours :  30\n",
      "En cours :  2\n",
      "En cours :  3\n",
      "En cours :  4\n",
      "En cours :  5\n",
      "En cours :  6\n",
      "En cours :  7\n",
      "En cours :  8\n",
      "En cours :  9\n",
      "En cours :  10\n",
      "En cours :  11\n",
      "En cours :  12\n",
      "En cours :  13\n",
      "En cours :  14\n",
      "En cours :  15\n",
      "En cours :  16\n",
      "En cours :  17\n",
      "En cours :  18\n",
      "En cours :  19\n",
      "En cours :  20\n",
      "En cours :  21\n",
      "En cours :  22\n",
      "En cours :  23\n",
      "En cours :  24\n",
      "En cours :  25\n"
     ]
    },
    {
     "name": "stderr",
     "output_type": "stream",
     "text": [
      "/home/florimond/anaconda3/lib/python3.5/site-packages/sklearn/linear_model/coordinate_descent.py:466: ConvergenceWarning: Objective did not converge. You might want to increase the number of iterations\n",
      "  ConvergenceWarning)\n",
      "/home/florimond/anaconda3/lib/python3.5/site-packages/sklearn/linear_model/coordinate_descent.py:466: ConvergenceWarning: Objective did not converge. You might want to increase the number of iterations\n",
      "  ConvergenceWarning)\n"
     ]
    },
    {
     "name": "stdout",
     "output_type": "stream",
     "text": [
      "En cours :  26\n",
      "En cours :  27\n"
     ]
    },
    {
     "name": "stderr",
     "output_type": "stream",
     "text": [
      "/home/florimond/anaconda3/lib/python3.5/site-packages/sklearn/linear_model/coordinate_descent.py:466: ConvergenceWarning: Objective did not converge. You might want to increase the number of iterations\n",
      "  ConvergenceWarning)\n",
      "/home/florimond/anaconda3/lib/python3.5/site-packages/sklearn/linear_model/coordinate_descent.py:466: ConvergenceWarning: Objective did not converge. You might want to increase the number of iterations\n",
      "  ConvergenceWarning)\n"
     ]
    },
    {
     "name": "stdout",
     "output_type": "stream",
     "text": [
      "En cours :  28\n"
     ]
    },
    {
     "name": "stderr",
     "output_type": "stream",
     "text": [
      "/home/florimond/anaconda3/lib/python3.5/site-packages/sklearn/linear_model/coordinate_descent.py:466: ConvergenceWarning: Objective did not converge. You might want to increase the number of iterations\n",
      "  ConvergenceWarning)\n",
      "/home/florimond/anaconda3/lib/python3.5/site-packages/sklearn/linear_model/coordinate_descent.py:466: ConvergenceWarning: Objective did not converge. You might want to increase the number of iterations\n",
      "  ConvergenceWarning)\n"
     ]
    },
    {
     "name": "stdout",
     "output_type": "stream",
     "text": [
      "En cours :  29\n"
     ]
    },
    {
     "name": "stderr",
     "output_type": "stream",
     "text": [
      "/home/florimond/anaconda3/lib/python3.5/site-packages/sklearn/linear_model/coordinate_descent.py:466: ConvergenceWarning: Objective did not converge. You might want to increase the number of iterations\n",
      "  ConvergenceWarning)\n",
      "/home/florimond/anaconda3/lib/python3.5/site-packages/sklearn/linear_model/coordinate_descent.py:466: ConvergenceWarning: Objective did not converge. You might want to increase the number of iterations\n",
      "  ConvergenceWarning)\n"
     ]
    },
    {
     "name": "stdout",
     "output_type": "stream",
     "text": [
      "En cours :  30\n"
     ]
    }
   ],
   "source": [
    "# Prepare parameters\n",
    "clf_params = [\n",
    "    (KNeighborsRegressor(),{'n_neighbors': list(range(1,30)),'p': [1,2],'weights': ['uniform','distance']}),\n",
    "    (LinearRegression(),{}),\n",
    "    (Ridge(),{'alpha' : [10,1,10.01,0.001,0.0001,0.00001]}),\n",
    "    (Lasso(),{'alpha' : [10,1,10.01,0.001,0.0001,0.00001],'max_iter':[100000]})]\n",
    "\n",
    "# Let's go !\n",
    "results = test_estimators(clf_params,X_train,y_train)"
   ]
  },
  {
   "cell_type": "code",
   "execution_count": 23,
   "metadata": {
    "collapsed": false
   },
   "outputs": [],
   "source": [
    "#results = pd.DataFrame.transpose(pd.DataFrame(results))\n",
    "res_knn = pd.DataFrame(list(results[0]))\n",
    "res_lr = pd.DataFrame(list(results[1]))\n",
    "res_ridge = pd.DataFrame(list(results[2]))\n",
    "res_lasso = pd.DataFrame(list(results[3]))"
   ]
  },
  {
   "cell_type": "code",
   "execution_count": 24,
   "metadata": {
    "collapsed": false
   },
   "outputs": [
    {
     "data": {
      "text/html": [
       "<div>\n",
       "<table border=\"1\" class=\"dataframe\">\n",
       "  <thead>\n",
       "    <tr>\n",
       "      <th></th>\n",
       "      <th colspan=\"2\" halign=\"left\">score</th>\n",
       "    </tr>\n",
       "    <tr>\n",
       "      <th></th>\n",
       "      <th>mean</th>\n",
       "      <th>std</th>\n",
       "    </tr>\n",
       "    <tr>\n",
       "      <th>dimensions</th>\n",
       "      <th></th>\n",
       "      <th></th>\n",
       "    </tr>\n",
       "  </thead>\n",
       "  <tbody>\n",
       "    <tr>\n",
       "      <th>2</th>\n",
       "      <td>187.291155</td>\n",
       "      <td>20.421626</td>\n",
       "    </tr>\n",
       "    <tr>\n",
       "      <th>3</th>\n",
       "      <td>179.596478</td>\n",
       "      <td>16.012704</td>\n",
       "    </tr>\n",
       "    <tr>\n",
       "      <th>4</th>\n",
       "      <td>179.855195</td>\n",
       "      <td>17.041402</td>\n",
       "    </tr>\n",
       "    <tr>\n",
       "      <th>5</th>\n",
       "      <td>180.738243</td>\n",
       "      <td>13.358627</td>\n",
       "    </tr>\n",
       "    <tr>\n",
       "      <th>6</th>\n",
       "      <td>171.072913</td>\n",
       "      <td>13.674638</td>\n",
       "    </tr>\n",
       "    <tr>\n",
       "      <th>7</th>\n",
       "      <td>164.337140</td>\n",
       "      <td>14.079286</td>\n",
       "    </tr>\n",
       "    <tr>\n",
       "      <th>8</th>\n",
       "      <td>158.522346</td>\n",
       "      <td>13.572389</td>\n",
       "    </tr>\n",
       "    <tr>\n",
       "      <th>9</th>\n",
       "      <td>158.911562</td>\n",
       "      <td>13.300573</td>\n",
       "    </tr>\n",
       "    <tr>\n",
       "      <th>10</th>\n",
       "      <td>156.926975</td>\n",
       "      <td>11.592250</td>\n",
       "    </tr>\n",
       "    <tr>\n",
       "      <th>11</th>\n",
       "      <td>158.113241</td>\n",
       "      <td>15.427114</td>\n",
       "    </tr>\n",
       "    <tr>\n",
       "      <th>12</th>\n",
       "      <td>158.242322</td>\n",
       "      <td>16.255680</td>\n",
       "    </tr>\n",
       "    <tr>\n",
       "      <th>13</th>\n",
       "      <td>160.548764</td>\n",
       "      <td>22.093893</td>\n",
       "    </tr>\n",
       "    <tr>\n",
       "      <th>14</th>\n",
       "      <td>157.697941</td>\n",
       "      <td>19.860696</td>\n",
       "    </tr>\n",
       "    <tr>\n",
       "      <th>15</th>\n",
       "      <td>158.053186</td>\n",
       "      <td>19.591196</td>\n",
       "    </tr>\n",
       "    <tr>\n",
       "      <th>16</th>\n",
       "      <td>158.129176</td>\n",
       "      <td>19.216462</td>\n",
       "    </tr>\n",
       "    <tr>\n",
       "      <th>17</th>\n",
       "      <td>157.200082</td>\n",
       "      <td>19.804396</td>\n",
       "    </tr>\n",
       "    <tr>\n",
       "      <th>18</th>\n",
       "      <td>156.960743</td>\n",
       "      <td>19.541914</td>\n",
       "    </tr>\n",
       "    <tr>\n",
       "      <th>19</th>\n",
       "      <td>158.766078</td>\n",
       "      <td>20.594033</td>\n",
       "    </tr>\n",
       "    <tr>\n",
       "      <th>20</th>\n",
       "      <td>157.349504</td>\n",
       "      <td>20.113063</td>\n",
       "    </tr>\n",
       "    <tr>\n",
       "      <th>21</th>\n",
       "      <td>158.509022</td>\n",
       "      <td>22.948163</td>\n",
       "    </tr>\n",
       "    <tr>\n",
       "      <th>22</th>\n",
       "      <td>157.016399</td>\n",
       "      <td>20.677764</td>\n",
       "    </tr>\n",
       "    <tr>\n",
       "      <th>23</th>\n",
       "      <td>156.944894</td>\n",
       "      <td>26.400774</td>\n",
       "    </tr>\n",
       "    <tr>\n",
       "      <th>24</th>\n",
       "      <td>154.507657</td>\n",
       "      <td>23.977451</td>\n",
       "    </tr>\n",
       "    <tr>\n",
       "      <th>25</th>\n",
       "      <td>161.777818</td>\n",
       "      <td>25.675156</td>\n",
       "    </tr>\n",
       "    <tr>\n",
       "      <th>26</th>\n",
       "      <td>162.001821</td>\n",
       "      <td>25.767255</td>\n",
       "    </tr>\n",
       "    <tr>\n",
       "      <th>27</th>\n",
       "      <td>165.861689</td>\n",
       "      <td>30.802361</td>\n",
       "    </tr>\n",
       "    <tr>\n",
       "      <th>28</th>\n",
       "      <td>165.653711</td>\n",
       "      <td>30.953141</td>\n",
       "    </tr>\n",
       "    <tr>\n",
       "      <th>29</th>\n",
       "      <td>166.163074</td>\n",
       "      <td>30.906513</td>\n",
       "    </tr>\n",
       "    <tr>\n",
       "      <th>30</th>\n",
       "      <td>166.095347</td>\n",
       "      <td>30.940085</td>\n",
       "    </tr>\n",
       "  </tbody>\n",
       "</table>\n",
       "</div>"
      ],
      "text/plain": [
       "                 score           \n",
       "                  mean        std\n",
       "dimensions                       \n",
       "2           187.291155  20.421626\n",
       "3           179.596478  16.012704\n",
       "4           179.855195  17.041402\n",
       "5           180.738243  13.358627\n",
       "6           171.072913  13.674638\n",
       "7           164.337140  14.079286\n",
       "8           158.522346  13.572389\n",
       "9           158.911562  13.300573\n",
       "10          156.926975  11.592250\n",
       "11          158.113241  15.427114\n",
       "12          158.242322  16.255680\n",
       "13          160.548764  22.093893\n",
       "14          157.697941  19.860696\n",
       "15          158.053186  19.591196\n",
       "16          158.129176  19.216462\n",
       "17          157.200082  19.804396\n",
       "18          156.960743  19.541914\n",
       "19          158.766078  20.594033\n",
       "20          157.349504  20.113063\n",
       "21          158.509022  22.948163\n",
       "22          157.016399  20.677764\n",
       "23          156.944894  26.400774\n",
       "24          154.507657  23.977451\n",
       "25          161.777818  25.675156\n",
       "26          162.001821  25.767255\n",
       "27          165.861689  30.802361\n",
       "28          165.653711  30.953141\n",
       "29          166.163074  30.906513\n",
       "30          166.095347  30.940085"
      ]
     },
     "execution_count": 24,
     "metadata": {},
     "output_type": "execute_result"
    }
   ],
   "source": [
    "res_lr.groupby('dimensions').agg([np.mean,np.std])"
   ]
  },
  {
   "cell_type": "markdown",
   "metadata": {},
   "source": [
    "Linear regression with dimensionality reduction to 25"
   ]
  },
  {
   "cell_type": "markdown",
   "metadata": {},
   "source": [
    "## Applying age prediction with linear regression"
   ]
  },
  {
   "cell_type": "code",
   "execution_count": 35,
   "metadata": {
    "collapsed": true
   },
   "outputs": [],
   "source": [
    "def create_predict_age(X_train,y_train,X_test,y_test):\n",
    "    components = FactorAnalysis(n_components = 25)\n",
    "    X_train_reduced = components.fit_transform(X_train)\n",
    "    X_test_reduced = components.transform(X_test)\n",
    "    clf = LinearRegression().fit(X = X_train_reduced,y = y_train)\n",
    "    predicted = clf.predict(X_test_reduced)\n",
    "    acc = mean_squared_error(predicted,y_test)\n",
    "    print(acc)\n",
    "    return clf"
   ]
  },
  {
   "cell_type": "code",
   "execution_count": 36,
   "metadata": {
    "collapsed": false
   },
   "outputs": [
    {
     "name": "stdout",
     "output_type": "stream",
     "text": [
      "149.605233937\n"
     ]
    }
   ],
   "source": [
    "age_predictor = create_predict_age(X_train,y_train,X_test,y_test)"
   ]
  },
  {
   "cell_type": "code",
   "execution_count": 27,
   "metadata": {
    "collapsed": false
   },
   "outputs": [],
   "source": [
    "dataset_dummies_age = dataset_dummies[dataset_dummies.Age.isnull()]\n",
    "cols = ['Pclass_1','Pclass_2','Pclass_3',\n",
    "           'Sex_female','Sex_male',\n",
    "           'Parch_0','Parch_1','Parch_2','Parch_3','Parch_4','Parch_5','Parch_6',\n",
    "           'SibSp_0','SibSp_1', 'SibSp_2','SibSp_3','SibSp_4','SibSp_5','SibSp_8',\n",
    "           'Embarked_C','Embarked_Q','Embarked_S',\n",
    "           'CabinLetter_A', 'CabinLetter_B', 'CabinLetter_C', 'CabinLetter_D', 'CabinLetter_E', 'CabinLetter_F',\n",
    "           'CabinLetter_G', 'CabinLetter_N', 'CabinLetter_T',\n",
    "           'Fare']"
   ]
  },
  {
   "cell_type": "code",
   "execution_count": 28,
   "metadata": {
    "collapsed": false
   },
   "outputs": [],
   "source": [
    "def predict_missing_age(dataset_dummies_age,clf):\n",
    "    dataset_dummies_age = dataset_dummies[dataset_dummies.Age.isnull()]\n",
    "    cols = ['Pclass_1','Pclass_2','Pclass_3',\n",
    "           'Sex_female','Sex_male',\n",
    "           'Parch_0','Parch_1','Parch_2','Parch_3','Parch_4','Parch_5','Parch_6',\n",
    "           'SibSp_0','SibSp_1', 'SibSp_2','SibSp_3','SibSp_4','SibSp_5','SibSp_8',\n",
    "           'Embarked_C','Embarked_Q','Embarked_S',\n",
    "           'CabinLetter_A', 'CabinLetter_B', 'CabinLetter_C', 'CabinLetter_D', 'CabinLetter_E', 'CabinLetter_F',\n",
    "           'CabinLetter_G', 'CabinLetter_N', 'CabinLetter_T',\n",
    "           'Fare']\n",
    "    X = dataset_dummies_age[cols]\n",
    "    components = FactorAnalysis(n_components = 25)\n",
    "    X_reduced = components.fit_transform(X)\n",
    "    return clf.predict(X_reduced)\n",
    "    "
   ]
  },
  {
   "cell_type": "code",
   "execution_count": 29,
   "metadata": {
    "collapsed": false
   },
   "outputs": [
    {
     "name": "stderr",
     "output_type": "stream",
     "text": [
      "/home/florimond/anaconda3/lib/python3.5/site-packages/ipykernel/__main__.py:2: SettingWithCopyWarning: \n",
      "A value is trying to be set on a copy of a slice from a DataFrame.\n",
      "Try using .loc[row_indexer,col_indexer] = value instead\n",
      "\n",
      "See the caveats in the documentation: http://pandas.pydata.org/pandas-docs/stable/indexing.html#indexing-view-versus-copy\n",
      "  from ipykernel import kernelapp as app\n"
     ]
    }
   ],
   "source": [
    "datanull = dataset_dummies[dataset_dummies.Age.isnull()]\n",
    "datanull['AgePredicted'] =predict_missing_age(dataset_dummies_age,age_predictor)"
   ]
  },
  {
   "cell_type": "code",
   "execution_count": 30,
   "metadata": {
    "collapsed": false
   },
   "outputs": [],
   "source": [
    "dataset_dummies = dataset_dummies.join(datanull['AgePredicted'])"
   ]
  },
  {
   "cell_type": "code",
   "execution_count": 31,
   "metadata": {
    "collapsed": false
   },
   "outputs": [],
   "source": [
    "f = np.vectorize(lambda age,ageP: age if (not np.isnan(age)) else ageP)\n",
    "dataset_dummies = dataset_dummies.assign(final_age = f(dataset_dummies.Age,dataset_dummies.AgePredicted))"
   ]
  },
  {
   "cell_type": "code",
   "execution_count": 32,
   "metadata": {
    "collapsed": false
   },
   "outputs": [
    {
     "data": {
      "text/plain": [
       "0.0"
      ]
     },
     "execution_count": 32,
     "metadata": {},
     "output_type": "execute_result"
    }
   ],
   "source": [
    "dataset_dummies.final_age.isnull().mean()"
   ]
  },
  {
   "cell_type": "code",
   "execution_count": null,
   "metadata": {
    "collapsed": true
   },
   "outputs": [],
   "source": []
  }
 ],
 "metadata": {
  "kernelspec": {
   "display_name": "Python 3",
   "language": "python",
   "name": "python3"
  },
  "language_info": {
   "codemirror_mode": {
    "name": "ipython",
    "version": 3
   },
   "file_extension": ".py",
   "mimetype": "text/x-python",
   "name": "python",
   "nbconvert_exporter": "python",
   "pygments_lexer": "ipython3",
   "version": "3.5.1"
  }
 },
 "nbformat": 4,
 "nbformat_minor": 0
}
