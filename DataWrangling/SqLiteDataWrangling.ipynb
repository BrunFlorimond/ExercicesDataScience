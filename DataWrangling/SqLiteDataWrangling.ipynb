{
 "cells": [
  {
   "cell_type": "markdown",
   "metadata": {},
   "source": [
    "# Charger, organiser et explorer un jeu de données avec iPython et sqLite"
   ]
  },
  {
   "cell_type": "markdown",
   "metadata": {},
   "source": [
    "Les données utilisées sont les statistiques de mortalité aux Etats-Unis en 2014. Ces données sont disponibles sur le site du Center For Disease Control (CDC) ou en format csv et sqLite sur le site Kaggle (https://www.kaggle.com/cdc/mortality)"
   ]
  },
  {
   "cell_type": "markdown",
   "metadata": {},
   "source": [
    "Le début de ce notebook vise à comparer les fonctions SQL et pandas pour effectuer les mêmes opérations"
   ]
  },
  {
   "cell_type": "code",
   "execution_count": 3,
   "metadata": {
    "collapsed": true
   },
   "outputs": [],
   "source": [
    "%matplotlib inline\n",
    "import numpy as np\n",
    "import scipy as sp\n",
    "import matplotlib as mpl\n",
    "import matplotlib.cm as cm\n",
    "import matplotlib.pyplot as plt\n",
    "import pandas as pd\n",
    "import time\n",
    "import os\n",
    "from sqlite3 import dbapi2 as sq3\n",
    "pd.set_option('display.width', 500)\n",
    "pd.set_option('display.max_columns', 100)\n",
    "pd.set_option('display.notebook_repr_html', True)\n",
    "import seaborn as sns\n",
    "sns.set_style(\"whitegrid\")"
   ]
  },
  {
   "cell_type": "code",
   "execution_count": null,
   "metadata": {
    "collapsed": false
   },
   "outputs": [],
   "source": [
    "# -------------------------------------------------------------------------\n",
    "# A effectuer seulement la première fois du lancement du notebook : \n",
    "# Charge le CSV dans le notebook et l'envois dans la BDD\n",
    "# Long...\n",
    "# --------------------------------------------------------------------------\n",
    "\n",
    "# Chargement des données dans le notebook\n",
    "dr = pd.read_csv('Dataset/DeathRecords.csv')\n",
    "\n",
    "# Premier regard sur les données\n",
    "dr.info()\n",
    "\n",
    "# Créer le schema de la table\n",
    "schema=\"\"\"\n",
    "DROP TABLE IF EXISTS \"causesofdeath\";\n",
    "CREATE TABLE \"causesofdeath\" (\n",
    "    \"id\" INTEGER NOT NULL,\n",
    "    \"ResidentStatus\" INTEGER,\n",
    "    \"Education1989Revision\" INTEGER,\n",
    "    \"Education2003Revision\" INTEGER,\n",
    "    \"EducationReportingFlag\" INTEGER,\n",
    "    \"MonthOfDeath\" INTEGER,\n",
    "    \"Sex\" VARCHAR(1),\n",
    "    \"AgeType\" INTEGER,\n",
    "    \"Age\" INTEGER,\n",
    "    \"AgeSubstitutionFlag\" INTEGER,\n",
    "    \"AgeRecode52\" INTEGER,\n",
    "    \"AgeRecode27\" INTEGER,\n",
    "    \"AgeRecode12\" INTEGER,\n",
    "    \"InfantAgeRecode22\" INTEGER,    \n",
    "    \"PlaceOfDeathAndDecedentsStatus\" INTEGER,    \n",
    "    \"MaritalStatus\" VARCHAR(1),    \n",
    "    \"DayOfWeekOfDeath\" INTEGER,\n",
    "    \"CurrentDataYear\" INTEGER,\n",
    "    \"InjuryAtWork\" VARCHAR,\n",
    "    \"MannerOfDeath\" INTEGER,\n",
    "    \"MethodOfDisposition\" VARCHAR(1),\n",
    "    \"Autopsy\" VARCHAR(1),\n",
    "    \"ActivityCode\" INTEGER,\n",
    "    \"PlaceOfInjury\" INTEGER,\n",
    "    \"Icd10Code\" VARCHAR(4),\n",
    "    \"CauseRecode358\" INTEGER,\n",
    "    \"CauseRecode113\" INTEGER,\n",
    "    \"InfantCauseRecode130\" INTEGER,\n",
    "    \"CauseRecode39\" INTEGER,\n",
    "    \"NumberOfEntityAxisConditions\" INTEGER,\n",
    "    \"NumberOfRecordAxisConditions\" INTEGER,\n",
    "    \"Race\" INTEGER,\n",
    "    \"BridgedRaceFlag\" INTEGER,\n",
    "    \"RaceImputationFlag\" INTEGER,\n",
    "    \"RaceRecode3\" INTEGER,\n",
    "    \"RaceRecode5\" INTEGER,\n",
    "    \"HispanicOrigin\" INTEGER,\n",
    "    \"HispanicOriginRaceRecode\" INTEGER\n",
    ");\n",
    "\"\"\"\n",
    "\n",
    "# Se connecter a la base de données\n",
    "PATHSTART=\"Dataset/\"\n",
    "def get_db(dbfile):\n",
    "    sqlite_db = sq3.connect(os.path.join(PATHSTART, dbfile))\n",
    "    return sqlite_db\n",
    "\n",
    "db = get_db(\"CDC.db\")\n",
    "\n",
    "# Ajouter les données\n",
    "dr.to_sql(\"causesofdeath\", db, if_exists=\"append\", index=False)"
   ]
  },
  {
   "cell_type": "code",
   "execution_count": 4,
   "metadata": {
    "collapsed": false
   },
   "outputs": [],
   "source": [
    "# Se connecter a la base de données\n",
    "PATHSTART=\"Dataset/\"\n",
    "def get_db(dbfile):\n",
    "    sqlite_db = sq3.connect(os.path.join(PATHSTART, dbfile))\n",
    "    return sqlite_db\n",
    "\n",
    "db = get_db(\"CDC.db\")"
   ]
  },
  {
   "cell_type": "code",
   "execution_count": 6,
   "metadata": {
    "collapsed": true
   },
   "outputs": [],
   "source": [
    "# Fonction pour faciliter le requetage simple\n",
    "def sql_query(str):\n",
    "    return db.cursor().execute(str).fetchall()"
   ]
  },
  {
   "cell_type": "markdown",
   "metadata": {},
   "source": [
    "On récupère un échantillon des données et on créé un df plus petit. \n",
    "Ce dataframe sera utilisé pour permettre de comparer les requetes SQL avec les fonctions de pandas"
   ]
  },
  {
   "cell_type": "code",
   "execution_count": 60,
   "metadata": {
    "collapsed": false
   },
   "outputs": [
    {
     "data": {
      "text/html": [
       "<div>\n",
       "<table border=\"1\" class=\"dataframe\">\n",
       "  <thead>\n",
       "    <tr style=\"text-align: right;\">\n",
       "      <th></th>\n",
       "      <th>id</th>\n",
       "      <th>ResidentStatus</th>\n",
       "      <th>Education1989Revision</th>\n",
       "      <th>Education2003Revision</th>\n",
       "      <th>EducationReportingFlag</th>\n",
       "      <th>MonthOfDeath</th>\n",
       "      <th>Sex</th>\n",
       "      <th>AgeType</th>\n",
       "      <th>Age</th>\n",
       "      <th>AgeSubstitutionFlag</th>\n",
       "      <th>AgeRecode52</th>\n",
       "      <th>AgeRecode27</th>\n",
       "      <th>AgeRecode12</th>\n",
       "      <th>InfantAgeRecode22</th>\n",
       "      <th>PlaceOfDeathAndDecedentsStatus</th>\n",
       "      <th>MaritalStatus</th>\n",
       "      <th>DayOfWeekOfDeath</th>\n",
       "      <th>CurrentDataYear</th>\n",
       "      <th>InjuryAtWork</th>\n",
       "      <th>MannerOfDeath</th>\n",
       "      <th>MethodOfDisposition</th>\n",
       "      <th>Autopsy</th>\n",
       "      <th>ActivityCode</th>\n",
       "      <th>PlaceOfInjury</th>\n",
       "      <th>Icd10Code</th>\n",
       "      <th>CauseRecode358</th>\n",
       "      <th>CauseRecode113</th>\n",
       "      <th>InfantCauseRecode130</th>\n",
       "      <th>CauseRecode39</th>\n",
       "      <th>NumberOfEntityAxisConditions</th>\n",
       "      <th>NumberOfRecordAxisConditions</th>\n",
       "      <th>Race</th>\n",
       "      <th>BridgedRaceFlag</th>\n",
       "      <th>RaceImputationFlag</th>\n",
       "      <th>RaceRecode3</th>\n",
       "      <th>RaceRecode5</th>\n",
       "      <th>HispanicOrigin</th>\n",
       "      <th>HispanicOriginRaceRecode</th>\n",
       "    </tr>\n",
       "  </thead>\n",
       "  <tbody>\n",
       "    <tr>\n",
       "      <th>0</th>\n",
       "      <td>1169399</td>\n",
       "      <td>1</td>\n",
       "      <td>0</td>\n",
       "      <td>5</td>\n",
       "      <td>1</td>\n",
       "      <td>10</td>\n",
       "      <td>F</td>\n",
       "      <td>1</td>\n",
       "      <td>91</td>\n",
       "      <td>0</td>\n",
       "      <td>44</td>\n",
       "      <td>24</td>\n",
       "      <td>11</td>\n",
       "      <td>0</td>\n",
       "      <td>4</td>\n",
       "      <td>W</td>\n",
       "      <td>7</td>\n",
       "      <td>2014</td>\n",
       "      <td>U</td>\n",
       "      <td>7</td>\n",
       "      <td>R</td>\n",
       "      <td>N</td>\n",
       "      <td>99</td>\n",
       "      <td>99</td>\n",
       "      <td>I350</td>\n",
       "      <td>225</td>\n",
       "      <td>68</td>\n",
       "      <td>0</td>\n",
       "      <td>22</td>\n",
       "      <td>2</td>\n",
       "      <td>2</td>\n",
       "      <td>1</td>\n",
       "      <td>0</td>\n",
       "      <td>0</td>\n",
       "      <td>1</td>\n",
       "      <td>1</td>\n",
       "      <td>100</td>\n",
       "      <td>6</td>\n",
       "    </tr>\n",
       "    <tr>\n",
       "      <th>1</th>\n",
       "      <td>1734078</td>\n",
       "      <td>1</td>\n",
       "      <td>0</td>\n",
       "      <td>3</td>\n",
       "      <td>1</td>\n",
       "      <td>1</td>\n",
       "      <td>M</td>\n",
       "      <td>1</td>\n",
       "      <td>85</td>\n",
       "      <td>0</td>\n",
       "      <td>43</td>\n",
       "      <td>23</td>\n",
       "      <td>11</td>\n",
       "      <td>0</td>\n",
       "      <td>1</td>\n",
       "      <td>W</td>\n",
       "      <td>7</td>\n",
       "      <td>2014</td>\n",
       "      <td>U</td>\n",
       "      <td>7</td>\n",
       "      <td>C</td>\n",
       "      <td>N</td>\n",
       "      <td>99</td>\n",
       "      <td>99</td>\n",
       "      <td>J961</td>\n",
       "      <td>278</td>\n",
       "      <td>89</td>\n",
       "      <td>0</td>\n",
       "      <td>37</td>\n",
       "      <td>3</td>\n",
       "      <td>3</td>\n",
       "      <td>2</td>\n",
       "      <td>0</td>\n",
       "      <td>0</td>\n",
       "      <td>3</td>\n",
       "      <td>2</td>\n",
       "      <td>100</td>\n",
       "      <td>7</td>\n",
       "    </tr>\n",
       "    <tr>\n",
       "      <th>2</th>\n",
       "      <td>735908</td>\n",
       "      <td>2</td>\n",
       "      <td>0</td>\n",
       "      <td>6</td>\n",
       "      <td>1</td>\n",
       "      <td>10</td>\n",
       "      <td>M</td>\n",
       "      <td>1</td>\n",
       "      <td>70</td>\n",
       "      <td>0</td>\n",
       "      <td>40</td>\n",
       "      <td>20</td>\n",
       "      <td>9</td>\n",
       "      <td>0</td>\n",
       "      <td>1</td>\n",
       "      <td>D</td>\n",
       "      <td>2</td>\n",
       "      <td>2014</td>\n",
       "      <td>U</td>\n",
       "      <td>7</td>\n",
       "      <td>C</td>\n",
       "      <td>N</td>\n",
       "      <td>99</td>\n",
       "      <td>99</td>\n",
       "      <td>I629</td>\n",
       "      <td>236</td>\n",
       "      <td>70</td>\n",
       "      <td>0</td>\n",
       "      <td>24</td>\n",
       "      <td>2</td>\n",
       "      <td>2</td>\n",
       "      <td>1</td>\n",
       "      <td>0</td>\n",
       "      <td>0</td>\n",
       "      <td>1</td>\n",
       "      <td>1</td>\n",
       "      <td>100</td>\n",
       "      <td>6</td>\n",
       "    </tr>\n",
       "    <tr>\n",
       "      <th>3</th>\n",
       "      <td>1144762</td>\n",
       "      <td>1</td>\n",
       "      <td>12</td>\n",
       "      <td>0</td>\n",
       "      <td>0</td>\n",
       "      <td>9</td>\n",
       "      <td>M</td>\n",
       "      <td>1</td>\n",
       "      <td>82</td>\n",
       "      <td>0</td>\n",
       "      <td>42</td>\n",
       "      <td>22</td>\n",
       "      <td>10</td>\n",
       "      <td>0</td>\n",
       "      <td>6</td>\n",
       "      <td>W</td>\n",
       "      <td>2</td>\n",
       "      <td>2014</td>\n",
       "      <td>U</td>\n",
       "      <td>7</td>\n",
       "      <td>U</td>\n",
       "      <td>N</td>\n",
       "      <td>99</td>\n",
       "      <td>99</td>\n",
       "      <td>I64</td>\n",
       "      <td>238</td>\n",
       "      <td>70</td>\n",
       "      <td>0</td>\n",
       "      <td>24</td>\n",
       "      <td>2</td>\n",
       "      <td>2</td>\n",
       "      <td>2</td>\n",
       "      <td>0</td>\n",
       "      <td>0</td>\n",
       "      <td>3</td>\n",
       "      <td>2</td>\n",
       "      <td>100</td>\n",
       "      <td>7</td>\n",
       "    </tr>\n",
       "    <tr>\n",
       "      <th>4</th>\n",
       "      <td>2030325</td>\n",
       "      <td>1</td>\n",
       "      <td>0</td>\n",
       "      <td>3</td>\n",
       "      <td>1</td>\n",
       "      <td>11</td>\n",
       "      <td>M</td>\n",
       "      <td>1</td>\n",
       "      <td>64</td>\n",
       "      <td>0</td>\n",
       "      <td>38</td>\n",
       "      <td>18</td>\n",
       "      <td>8</td>\n",
       "      <td>0</td>\n",
       "      <td>2</td>\n",
       "      <td>M</td>\n",
       "      <td>1</td>\n",
       "      <td>2014</td>\n",
       "      <td>U</td>\n",
       "      <td>7</td>\n",
       "      <td>R</td>\n",
       "      <td>N</td>\n",
       "      <td>99</td>\n",
       "      <td>99</td>\n",
       "      <td>I713</td>\n",
       "      <td>242</td>\n",
       "      <td>73</td>\n",
       "      <td>0</td>\n",
       "      <td>26</td>\n",
       "      <td>1</td>\n",
       "      <td>1</td>\n",
       "      <td>1</td>\n",
       "      <td>0</td>\n",
       "      <td>0</td>\n",
       "      <td>1</td>\n",
       "      <td>1</td>\n",
       "      <td>100</td>\n",
       "      <td>6</td>\n",
       "    </tr>\n",
       "  </tbody>\n",
       "</table>\n",
       "</div>"
      ],
      "text/plain": [
       "        id  ResidentStatus  Education1989Revision  Education2003Revision  EducationReportingFlag  MonthOfDeath Sex  AgeType  Age  AgeSubstitutionFlag  AgeRecode52  AgeRecode27  AgeRecode12  InfantAgeRecode22  PlaceOfDeathAndDecedentsStatus MaritalStatus  DayOfWeekOfDeath  CurrentDataYear InjuryAtWork  MannerOfDeath MethodOfDisposition Autopsy  ActivityCode  PlaceOfInjury Icd10Code  CauseRecode358  CauseRecode113  InfantCauseRecode130  CauseRecode39  NumberOfEntityAxisConditions  \\\n",
       "0  1169399               1                      0                      5                       1            10   F        1   91                    0           44           24           11                  0                               4             W                 7             2014            U              7                   R       N            99             99      I350             225              68                     0             22                             2   \n",
       "1  1734078               1                      0                      3                       1             1   M        1   85                    0           43           23           11                  0                               1             W                 7             2014            U              7                   C       N            99             99      J961             278              89                     0             37                             3   \n",
       "2   735908               2                      0                      6                       1            10   M        1   70                    0           40           20            9                  0                               1             D                 2             2014            U              7                   C       N            99             99      I629             236              70                     0             24                             2   \n",
       "3  1144762               1                     12                      0                       0             9   M        1   82                    0           42           22           10                  0                               6             W                 2             2014            U              7                   U       N            99             99       I64             238              70                     0             24                             2   \n",
       "4  2030325               1                      0                      3                       1            11   M        1   64                    0           38           18            8                  0                               2             M                 1             2014            U              7                   R       N            99             99      I713             242              73                     0             26                             1   \n",
       "\n",
       "   NumberOfRecordAxisConditions  Race  BridgedRaceFlag  RaceImputationFlag  RaceRecode3  RaceRecode5  HispanicOrigin  HispanicOriginRaceRecode  \n",
       "0                             2     1                0                   0            1            1             100                         6  \n",
       "1                             3     2                0                   0            3            2             100                         7  \n",
       "2                             2     1                0                   0            1            1             100                         6  \n",
       "3                             2     2                0                   0            3            2             100                         7  \n",
       "4                             1     1                0                   0            1            1             100                         6  "
      ]
     },
     "execution_count": 60,
     "metadata": {},
     "output_type": "execute_result"
    }
   ],
   "source": [
    "# On recupère les infos de la Bases\n",
    "table_info = sql_query(\"PRAGMA table_info(causesofdeath);\")\n",
    "column_names = [x[1] for x in table_info]\n",
    "\n",
    "# On selectionne au hasard les lignes de la base de donénes et on les stocke dans un dataframe\n",
    "sel_random = 'SELECT * FROM causesofdeath ORDER BY Random() LIMIT 100000'\n",
    "#sel_random = \"SELECT * FROM causesofdeath WHERE id = ?\"\n",
    "df = pd.DataFrame(db.cursor().execute(sel_random).fetchall(),columns = column_names)\n",
    "df.head()"
   ]
  },
  {
   "cell_type": "markdown",
   "metadata": {},
   "source": [
    "On vérifie que toutes les données sont dans la BDD"
   ]
  },
  {
   "cell_type": "code",
   "execution_count": 171,
   "metadata": {
    "collapsed": false
   },
   "outputs": [
    {
     "name": "stdout",
     "output_type": "stream",
     "text": [
      "nombre de ligne dans la bdd : [(2631171,)]\n",
      "nombre de colonnes dans la bdd 39\n",
      "nombre de lignes et de colonnes dans le sample:  (100000, 38)\n"
     ]
    }
   ],
   "source": [
    "print('nombre de ligne dans la bdd :',sql_query(\"SELECT COUNT(Id) FROM causesofdeath\"))\n",
    "print('nombre de colonnes dans la bdd', len(sql_query(\"PRAGMA table_info(causesofdeath);\")))\n",
    "print('nombre de lignes et de colonnes dans le sample: ',df.shape)\n"
   ]
  },
  {
   "cell_type": "markdown",
   "metadata": {},
   "source": [
    "Comparatif des commandes Pandas et SQL\n",
    "https://gist.github.com/TomAugspurger/6e052140eaa5fdb6e8c0/\n",
    "\n",
    "<table>\n",
    "  <tr>\n",
    "    <th><b>VERB</b></th>\n",
    "    <th><b>pandas</b></th>\n",
    "    <th><b>SQL</b></th>\n",
    "  </tr>\n",
    "  <tr>\n",
    "    <td>QUERY/SELECTION</td>\n",
    "    <td>query() (and loc[], iloc[])</td>\n",
    "    <td>SELECT WHERE</td>\n",
    "  </tr>\n",
    "  <tr>\n",
    "    <td>SORT</td>\n",
    "    <td>sort()</td>\n",
    "    <td>ORDER BY</td>\n",
    "  </tr>\n",
    "  <tr>\n",
    "    <td>SELECT-COLUMNS/PROJECTION</td>\n",
    "    <td>[](__getitem__) (and rename())</td>\n",
    "    <td>SELECT COLUMN</td>\n",
    "  </tr>\n",
    "  <tr>\n",
    "    <td>SELECT-DISTINCT</td>\n",
    "    <td>unique(),drop_duplicates()</td>\n",
    "    <td>SELECT DISTINCT COLUMN</td>\n",
    "  </tr>\n",
    "  <tr>\n",
    "    <td>ASSIGN</td>\n",
    "    <td>assign</td>\n",
    "    <td>ALTER/UPDATE</td>\n",
    "  </tr>\n",
    "  <tr>\n",
    "    <td>AGGREGATE</td>\n",
    "    <td>describe(), mean(), max()</td>\n",
    "    <td>None, AVG(),MAX()</td>\n",
    "  </tr>\n",
    "  <tr>\n",
    "    <td>SAMPLE</td>\n",
    "    <td>sample()</td>\n",
    "    <td>implementation dep, use RAND()</td>\n",
    "  </tr>\n",
    "  <tr>\n",
    "    <td>GROUP-AGG</td>\n",
    "    <td>groupby/agg, count, mean</td>\n",
    "    <td>GROUP BY</td>\n",
    "  </tr>\n",
    "  <tr>\n",
    "    <td>DELETE</td>\n",
    "    <td>drop/masking</td>\n",
    "    <td>DELETE/WHERE</td>\n",
    "  </tr>\n",
    "</table>"
   ]
  },
  {
   "cell_type": "markdown",
   "metadata": {},
   "source": [
    "Existe t'il des données manquantes dans chaque colonne?"
   ]
  },
  {
   "cell_type": "code",
   "execution_count": 80,
   "metadata": {
    "collapsed": false
   },
   "outputs": [
    {
     "name": "stdout",
     "output_type": "stream",
     "text": [
      "Sample : \n"
     ]
    },
    {
     "data": {
      "text/html": [
       "<div>\n",
       "<table border=\"1\" class=\"dataframe\">\n",
       "  <thead>\n",
       "    <tr style=\"text-align: right;\">\n",
       "      <th></th>\n",
       "      <th>ActivityCode</th>\n",
       "      <th>Age</th>\n",
       "      <th>AgeRecode12</th>\n",
       "      <th>AgeRecode27</th>\n",
       "      <th>AgeRecode52</th>\n",
       "      <th>AgeSubstitutionFlag</th>\n",
       "      <th>AgeType</th>\n",
       "      <th>Autopsy</th>\n",
       "      <th>BridgedRaceFlag</th>\n",
       "      <th>CauseRecode113</th>\n",
       "      <th>CauseRecode358</th>\n",
       "      <th>CauseRecode39</th>\n",
       "      <th>CurrentDataYear</th>\n",
       "      <th>DayOfWeekOfDeath</th>\n",
       "      <th>Education1989Revision</th>\n",
       "      <th>Education2003Revision</th>\n",
       "      <th>EducationReportingFlag</th>\n",
       "      <th>HispanicOrigin</th>\n",
       "      <th>HispanicOriginRaceRecode</th>\n",
       "      <th>Icd10Code</th>\n",
       "      <th>InfantAgeRecode22</th>\n",
       "      <th>InfantCauseRecode130</th>\n",
       "      <th>InjuryAtWork</th>\n",
       "      <th>MannerOfDeath</th>\n",
       "      <th>MaritalStatus</th>\n",
       "      <th>MethodOfDisposition</th>\n",
       "      <th>MonthOfDeath</th>\n",
       "      <th>NumberOfEntityAxisConditions</th>\n",
       "      <th>NumberOfRecordAxisConditions</th>\n",
       "      <th>PlaceOfDeathAndDecedentsStatus</th>\n",
       "      <th>PlaceOfInjury</th>\n",
       "      <th>Race</th>\n",
       "      <th>RaceImputationFlag</th>\n",
       "      <th>RaceRecode3</th>\n",
       "      <th>RaceRecode5</th>\n",
       "      <th>ResidentStatus</th>\n",
       "      <th>Sex</th>\n",
       "      <th>id</th>\n",
       "    </tr>\n",
       "  </thead>\n",
       "  <tbody>\n",
       "    <tr>\n",
       "      <th>0</th>\n",
       "      <td>0</td>\n",
       "      <td>0</td>\n",
       "      <td>0</td>\n",
       "      <td>0</td>\n",
       "      <td>0</td>\n",
       "      <td>0</td>\n",
       "      <td>0</td>\n",
       "      <td>0</td>\n",
       "      <td>0</td>\n",
       "      <td>0</td>\n",
       "      <td>0</td>\n",
       "      <td>0</td>\n",
       "      <td>0</td>\n",
       "      <td>0</td>\n",
       "      <td>0</td>\n",
       "      <td>0</td>\n",
       "      <td>0</td>\n",
       "      <td>0</td>\n",
       "      <td>0</td>\n",
       "      <td>0</td>\n",
       "      <td>0</td>\n",
       "      <td>0</td>\n",
       "      <td>0</td>\n",
       "      <td>0</td>\n",
       "      <td>0</td>\n",
       "      <td>0</td>\n",
       "      <td>0</td>\n",
       "      <td>0</td>\n",
       "      <td>0</td>\n",
       "      <td>0</td>\n",
       "      <td>0</td>\n",
       "      <td>0</td>\n",
       "      <td>0</td>\n",
       "      <td>0</td>\n",
       "      <td>0</td>\n",
       "      <td>0</td>\n",
       "      <td>0</td>\n",
       "      <td>0</td>\n",
       "    </tr>\n",
       "  </tbody>\n",
       "</table>\n",
       "</div>"
      ],
      "text/plain": [
       "   ActivityCode  Age  AgeRecode12  AgeRecode27  AgeRecode52  AgeSubstitutionFlag  AgeType  Autopsy  BridgedRaceFlag  CauseRecode113  CauseRecode358  CauseRecode39  CurrentDataYear  DayOfWeekOfDeath  Education1989Revision  Education2003Revision  EducationReportingFlag  HispanicOrigin  HispanicOriginRaceRecode  Icd10Code  InfantAgeRecode22  InfantCauseRecode130  InjuryAtWork  MannerOfDeath  MaritalStatus  MethodOfDisposition  MonthOfDeath  NumberOfEntityAxisConditions  \\\n",
       "0             0    0            0            0            0                    0        0        0                0               0               0              0                0                 0                      0                      0                       0               0                         0          0                  0                     0             0              0              0                    0             0                             0   \n",
       "\n",
       "   NumberOfRecordAxisConditions  PlaceOfDeathAndDecedentsStatus  PlaceOfInjury  Race  RaceImputationFlag  RaceRecode3  RaceRecode5  ResidentStatus  Sex  id  \n",
       "0                             0                               0              0     0                   0            0            0               0    0   0  "
      ]
     },
     "execution_count": 80,
     "metadata": {},
     "output_type": "execute_result"
    }
   ],
   "source": [
    "# En pandas\n",
    "print('Sample : ')\n",
    "pd.DataFrame({k:sum(l[1].isnull()) for k,l in zip(column_names,df.iteritems())},index=[0])"
   ]
  },
  {
   "cell_type": "code",
   "execution_count": 81,
   "metadata": {
    "collapsed": false
   },
   "outputs": [
    {
     "name": "stdout",
     "output_type": "stream",
     "text": [
      "BDD : \n"
     ]
    },
    {
     "data": {
      "text/html": [
       "<div>\n",
       "<table border=\"1\" class=\"dataframe\">\n",
       "  <thead>\n",
       "    <tr style=\"text-align: right;\">\n",
       "      <th></th>\n",
       "      <th>ActivityCode</th>\n",
       "      <th>Age</th>\n",
       "      <th>AgeRecode12</th>\n",
       "      <th>AgeRecode27</th>\n",
       "      <th>AgeRecode52</th>\n",
       "      <th>AgeSubstitutionFlag</th>\n",
       "      <th>AgeType</th>\n",
       "      <th>Autopsy</th>\n",
       "      <th>BridgedRaceFlag</th>\n",
       "      <th>CauseRecode113</th>\n",
       "      <th>CauseRecode358</th>\n",
       "      <th>CauseRecode39</th>\n",
       "      <th>CurrentDataYear</th>\n",
       "      <th>DayOfWeekOfDeath</th>\n",
       "      <th>Education1989Revision</th>\n",
       "      <th>Education2003Revision</th>\n",
       "      <th>EducationReportingFlag</th>\n",
       "      <th>HispanicOrigin</th>\n",
       "      <th>HispanicOriginRaceRecode</th>\n",
       "      <th>Icd10Code</th>\n",
       "      <th>InfantAgeRecode22</th>\n",
       "      <th>InfantCauseRecode130</th>\n",
       "      <th>InjuryAtWork</th>\n",
       "      <th>MannerOfDeath</th>\n",
       "      <th>MaritalStatus</th>\n",
       "      <th>MethodOfDisposition</th>\n",
       "      <th>MonthOfDeath</th>\n",
       "      <th>NumberOfEntityAxisConditions</th>\n",
       "      <th>NumberOfRecordAxisConditions</th>\n",
       "      <th>PlaceOfDeathAndDecedentsStatus</th>\n",
       "      <th>PlaceOfInjury</th>\n",
       "      <th>Race</th>\n",
       "      <th>RaceImputationFlag</th>\n",
       "      <th>RaceRecode3</th>\n",
       "      <th>RaceRecode5</th>\n",
       "      <th>ResidentStatus</th>\n",
       "      <th>Sex</th>\n",
       "      <th>id</th>\n",
       "    </tr>\n",
       "  </thead>\n",
       "  <tbody>\n",
       "    <tr>\n",
       "      <th>0</th>\n",
       "      <td>0</td>\n",
       "      <td>0</td>\n",
       "      <td>0</td>\n",
       "      <td>0</td>\n",
       "      <td>0</td>\n",
       "      <td>0</td>\n",
       "      <td>0</td>\n",
       "      <td>0</td>\n",
       "      <td>0</td>\n",
       "      <td>0</td>\n",
       "      <td>0</td>\n",
       "      <td>0</td>\n",
       "      <td>0</td>\n",
       "      <td>0</td>\n",
       "      <td>0</td>\n",
       "      <td>0</td>\n",
       "      <td>0</td>\n",
       "      <td>0</td>\n",
       "      <td>0</td>\n",
       "      <td>0</td>\n",
       "      <td>0</td>\n",
       "      <td>0</td>\n",
       "      <td>0</td>\n",
       "      <td>0</td>\n",
       "      <td>0</td>\n",
       "      <td>0</td>\n",
       "      <td>0</td>\n",
       "      <td>0</td>\n",
       "      <td>0</td>\n",
       "      <td>0</td>\n",
       "      <td>0</td>\n",
       "      <td>0</td>\n",
       "      <td>0</td>\n",
       "      <td>0</td>\n",
       "      <td>0</td>\n",
       "      <td>0</td>\n",
       "      <td>0</td>\n",
       "      <td>0</td>\n",
       "    </tr>\n",
       "  </tbody>\n",
       "</table>\n",
       "</div>"
      ],
      "text/plain": [
       "   ActivityCode  Age  AgeRecode12  AgeRecode27  AgeRecode52  AgeSubstitutionFlag  AgeType  Autopsy  BridgedRaceFlag  CauseRecode113  CauseRecode358  CauseRecode39  CurrentDataYear  DayOfWeekOfDeath  Education1989Revision  Education2003Revision  EducationReportingFlag  HispanicOrigin  HispanicOriginRaceRecode  Icd10Code  InfantAgeRecode22  InfantCauseRecode130  InjuryAtWork  MannerOfDeath  MaritalStatus  MethodOfDisposition  MonthOfDeath  NumberOfEntityAxisConditions  \\\n",
       "0             0    0            0            0            0                    0        0        0                0               0               0              0                0                 0                      0                      0                       0               0                         0          0                  0                     0             0              0              0                    0             0                             0   \n",
       "\n",
       "   NumberOfRecordAxisConditions  PlaceOfDeathAndDecedentsStatus  PlaceOfInjury  Race  RaceImputationFlag  RaceRecode3  RaceRecode5  ResidentStatus  Sex  id  \n",
       "0                             0                               0              0     0                   0            0            0               0    0   0  "
      ]
     },
     "execution_count": 81,
     "metadata": {},
     "output_type": "execute_result"
    }
   ],
   "source": [
    "# En Pandas et SQL\n",
    "print('BDD : ')\n",
    "nul = \"SELECT ?,COUNT(?) FROM causesofdeath WHERE ? IS NULL\"\n",
    "res = [db.cursor().execute(nul,(x,x,x,)).fetchall() for x in column_names]\n",
    "pd.DataFrame({l[0]:l[1] for l in [item for sublist in res for item in sublist]},index=[0])"
   ]
  },
  {
   "cell_type": "code",
   "execution_count": 85,
   "metadata": {
    "collapsed": false
   },
   "outputs": [
    {
     "name": "stdout",
     "output_type": "stream",
     "text": [
      "Pandas :  73.42648\n",
      "SQL: 73.41336157931202\n",
      "La différence vient de l'échantillonage\n"
     ]
    }
   ],
   "source": [
    "# Estimons l'age moyen de décés\n",
    "\n",
    "#Pandas\n",
    "print(\"Pandas : \",df.Age.mean())\n",
    "\n",
    "#SQL\n",
    "print(\"SQL:\",sql_query(\"SELECT AVG(Age) FROM causesofdeath\")[0][0])\n",
    "\n",
    "print(\"La différence vient de l'échantillonage\")\n"
   ]
  },
  {
   "cell_type": "code",
   "execution_count": 137,
   "metadata": {
    "collapsed": false
   },
   "outputs": [
    {
     "name": "stdout",
     "output_type": "stream",
     "text": [
      "Pandas :  22.72807119977037\n",
      "SQL: 22.6093159695\n"
     ]
    }
   ],
   "source": [
    "# Estimons l'écart type de l'age moyen de deces\n",
    "\n",
    "# Pandas\n",
    "print(\"Pandas : \",df.Age.std())\n",
    "\n",
    "# SQL\n",
    "# Pas de fonction STDDEV en sqlite -> On la fait à la main\n",
    "\n",
    "variance = \"\"\"SELECT AVG((Age - sub.moyenne) * (Age - sub.moyenne)) from causesofdeath, \n",
    "    (SELECT AVG(Age) AS moyenne FROM causesofdeath) AS sub;\"\"\"\n",
    "\n",
    "print(\"SQL:\",np.sqrt(sql_query(variance)[0][0]))"
   ]
  },
  {
   "cell_type": "code",
   "execution_count": 135,
   "metadata": {
    "collapsed": false
   },
   "outputs": [
    {
     "data": {
      "image/png": "[encoded data removed]",
      "text/plain": [
       "<matplotlib.figure.Figure at 0x7f3dcac91be0>"
      ]
     },
     "metadata": {},
     "output_type": "display_data"
    }
   ],
   "source": [
    "# Dessinons la distribution pour l'échantillon et la population générale\n",
    "\n",
    "#Pandas and SQL\n",
    "plt.xlim(0, 110)\n",
    "plt.title(\"Distribution de l'age de décés\")\n",
    "# SQL\n",
    "age_sql = sql_query(\"SELECT Age FROM causesofdeath\")\n",
    "age_sql = age = pd.Series([x[0] for x in age_sql])\n",
    "plt.hist(age_sql, 500, alpha=0.5, label='age_sql',normed = 1)\n",
    "\n",
    "# Pandas\n",
    "plt.hist(df.Age, 500, alpha=0.5, label='age_pd', normed = 1)\n",
    "\n",
    "plt.legend(loc='upper right')\n",
    "plt.show()\n",
    "\n"
   ]
  },
  {
   "cell_type": "code",
   "execution_count": 136,
   "metadata": {
    "collapsed": false
   },
   "outputs": [
    {
     "name": "stdout",
     "output_type": "stream",
     "text": [
      "Pandas:  Sex\n",
      "F    76.766790\n",
      "M    70.211249\n",
      "Name: Age, dtype: float64\n",
      "SQL:  {'F': 76.67668479891668, 'M': 70.22785796955374}\n"
     ]
    }
   ],
   "source": [
    "#Estimons l'age moyen de décés par sexe\n",
    "\n",
    "print(\"Pandas: \",df.groupby('Sex')['Age'].mean())\n",
    "print(\"SQL: \",{l[0]:l[1] for l in sql_query(\"SELECT Sex,AVG(Age) FROM causesofdeath GROUP BY Sex;\")})"
   ]
  },
  {
   "cell_type": "code",
   "execution_count": 146,
   "metadata": {
    "collapsed": false
   },
   "outputs": [
    {
     "data": {
      "text/plain": [
       "<seaborn.axisgrid.FacetGrid at 0x7f3dc98e3a90>"
      ]
     },
     "execution_count": 146,
     "metadata": {},
     "output_type": "execute_result"
    },
    {
     "data": {
      "image/png": "[encoded data removed]",
      "text/plain": [
       "<matplotlib.figure.Figure at 0x7f3d9e140a58>"
      ]
     },
     "metadata": {},
     "output_type": "display_data"
    }
   ],
   "source": [
    "# Afficher la distribution de l'age moyen par sexe'\n",
    "age_sex = sql_query(\"SELECT Age,Sex FROM causesofdeath\")\n",
    "age_sex = pd.DataFrame([{k:l for k,l in zip(['Age','Sex'],row)} for row in age_sex])\n",
    "g = sns.FacetGrid(age_sex,col='Sex')\n",
    "g.set(xlim=(0,110))\n",
    "g.map(plt.hist, \"Age\",bins = 500)"
   ]
  },
  {
   "cell_type": "code",
   "execution_count": 175,
   "metadata": {
    "collapsed": false
   },
   "outputs": [
    {
     "data": {
      "text/plain": [
       "<seaborn.axisgrid.FacetGrid at 0x7f3dbd5c4c50>"
      ]
     },
     "execution_count": 175,
     "metadata": {},
     "output_type": "execute_result"
    },
    {
     "data": {
      "image/png": "[encoded data removed]",
      "text/plain": [
       "<matplotlib.figure.Figure at 0x7f3d83f1c048>"
      ]
     },
     "metadata": {},
     "output_type": "display_data"
    }
   ],
   "source": [
    "# Afficher les distributions de l'age moyen de deces par sex et cause de deces Mix Python et SQL\n",
    "# Ajout d'une colonne contenant les labels\n",
    "\"\"\"\n",
    "#db.cursor().execute(\"ALTER TABLE causesofdeath ADD COLUMN 'MannerOfDeathLbl' 'char(22)';\")\n",
    "#db.commit()\"\"\"\n",
    "\n",
    "# Mise a jour de la colonne en fonction de la valeur de MannerOfDeath\n",
    "\"\"\"db.cursor().execute(UPDATE `causesofdeath`\n",
    "SET `MannerOfDeathLbl` = (\n",
    "  CASE \n",
    "    WHEN `MannerOfDeath` = 1 THEN 'Accident'\n",
    "    WHEN `MannerOfDeath` = 2 THEN 'Suicide'\n",
    "    WHEN `MannerOfDeath` = 3 THEN 'Homicide'\n",
    "    WHEN `MannerOfDeath` = 4 THEN 'Pending Investigation'\n",
    "    WHEN `MannerOfDeath` = 5 THEN 'Could not Determine'\n",
    "    WHEN `MannerOfDeath` = 6 THEN 'Self-inflicted'\n",
    "    WHEN `MannerOfDeath` = 7 THEN 'Natural'\n",
    "    WHEN `MannerOfDeath` = 0 THEN 'Not specified'\n",
    "  END))\n",
    "db.commit()\"\"\"\n",
    "\n",
    "\n",
    "age_sex_manner = sql_query(\"SELECT Age,Sex,MannerOfDeathLbl FROM causesofdeath\")\n",
    "age_sex_manner = pd.DataFrame([{k:l for k,l in zip(['Age','Sex','Manner'],row)} for row in age_sex_manner])\n",
    "g = sns.FacetGrid(age_sex_manner,col='Sex',row = 'Manner')\n",
    "g.set(xlim=(0,110))\n",
    "g.map(plt.hist, \"Age\",bins = 500,normed = 1)\n"
   ]
  },
  {
   "cell_type": "code",
   "execution_count": null,
   "metadata": {
    "collapsed": true
   },
   "outputs": [],
   "source": []
  }
 ],
 "metadata": {
  "kernelspec": {
   "display_name": "Python 3",
   "language": "python",
   "name": "python3"
  },
  "language_info": {
   "codemirror_mode": {
    "name": "ipython",
    "version": 3
   },
   "file_extension": ".py",
   "mimetype": "text/x-python",
   "name": "python",
   "nbconvert_exporter": "python",
   "pygments_lexer": "ipython3",
   "version": "3.5.1"
  }
 },
 "nbformat": 4,
 "nbformat_minor": 0
}
